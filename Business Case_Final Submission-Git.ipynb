{
 "cells": [
  {
   "cell_type": "markdown",
   "id": "3c3c4bb3",
   "metadata": {},
   "source": [
    "### 1. Problem Statement"
   ]
  },
  {
   "cell_type": "markdown",
   "id": "cdebaac2",
   "metadata": {},
   "source": [
    "### The client is an American multinational retail corporation that operates a chain of supercenters, discount departmental stores, and grocery stores from the United States. "
   ]
  },
  {
   "cell_type": "markdown",
   "id": "eb86a0ea",
   "metadata": {},
   "source": [
    "### The goal of this case study is to analyze the spending patterns of customers to identify the factors that influence it and to give recommendations based on the insights uncovered. The dataset includes purchase details of customers on Black Friday. "
   ]
  },
  {
   "cell_type": "code",
   "execution_count": 2,
   "id": "2fade0a5",
   "metadata": {},
   "outputs": [],
   "source": [
    "#Importing all the necessary libraries\n",
    "import numpy as np\n",
    "import pandas as pd\n",
    "import matplotlib.pyplot as plt\n",
    "import seaborn as sns"
   ]
  },
  {
   "cell_type": "code",
   "execution_count": 3,
   "id": "f71de314",
   "metadata": {},
   "outputs": [],
   "source": [
    "#Importing the dataset and creating a Pandas DataFrame\n",
    "df=pd.read_csv('https://d2beiqkhq929f0.cloudfront.net/public_assets/assets/000/001/293/original/walmart_data.csv?1641285094')"
   ]
  },
  {
   "cell_type": "code",
   "execution_count": 70,
   "id": "f89a8b23",
   "metadata": {},
   "outputs": [
    {
     "data": {
      "text/html": [
       "<div>\n",
       "<style scoped>\n",
       "    .dataframe tbody tr th:only-of-type {\n",
       "        vertical-align: middle;\n",
       "    }\n",
       "\n",
       "    .dataframe tbody tr th {\n",
       "        vertical-align: top;\n",
       "    }\n",
       "\n",
       "    .dataframe thead th {\n",
       "        text-align: right;\n",
       "    }\n",
       "</style>\n",
       "<table border=\"1\" class=\"dataframe\">\n",
       "  <thead>\n",
       "    <tr style=\"text-align: right;\">\n",
       "      <th></th>\n",
       "      <th>User_ID</th>\n",
       "      <th>Product_ID</th>\n",
       "      <th>Gender</th>\n",
       "      <th>Age</th>\n",
       "      <th>Occupation</th>\n",
       "      <th>City_Category</th>\n",
       "      <th>Stay_In_Current_City_Years</th>\n",
       "      <th>Marital_Status</th>\n",
       "      <th>Product_Category</th>\n",
       "      <th>Purchase</th>\n",
       "    </tr>\n",
       "  </thead>\n",
       "  <tbody>\n",
       "    <tr>\n",
       "      <th>0</th>\n",
       "      <td>1000001</td>\n",
       "      <td>P00069042</td>\n",
       "      <td>F</td>\n",
       "      <td>0-17</td>\n",
       "      <td>10</td>\n",
       "      <td>A</td>\n",
       "      <td>2</td>\n",
       "      <td>0</td>\n",
       "      <td>3</td>\n",
       "      <td>8370</td>\n",
       "    </tr>\n",
       "    <tr>\n",
       "      <th>1</th>\n",
       "      <td>1000001</td>\n",
       "      <td>P00248942</td>\n",
       "      <td>F</td>\n",
       "      <td>0-17</td>\n",
       "      <td>10</td>\n",
       "      <td>A</td>\n",
       "      <td>2</td>\n",
       "      <td>0</td>\n",
       "      <td>1</td>\n",
       "      <td>15200</td>\n",
       "    </tr>\n",
       "    <tr>\n",
       "      <th>2</th>\n",
       "      <td>1000001</td>\n",
       "      <td>P00087842</td>\n",
       "      <td>F</td>\n",
       "      <td>0-17</td>\n",
       "      <td>10</td>\n",
       "      <td>A</td>\n",
       "      <td>2</td>\n",
       "      <td>0</td>\n",
       "      <td>12</td>\n",
       "      <td>1422</td>\n",
       "    </tr>\n",
       "    <tr>\n",
       "      <th>3</th>\n",
       "      <td>1000001</td>\n",
       "      <td>P00085442</td>\n",
       "      <td>F</td>\n",
       "      <td>0-17</td>\n",
       "      <td>10</td>\n",
       "      <td>A</td>\n",
       "      <td>2</td>\n",
       "      <td>0</td>\n",
       "      <td>12</td>\n",
       "      <td>1057</td>\n",
       "    </tr>\n",
       "    <tr>\n",
       "      <th>4</th>\n",
       "      <td>1000002</td>\n",
       "      <td>P00285442</td>\n",
       "      <td>M</td>\n",
       "      <td>55+</td>\n",
       "      <td>16</td>\n",
       "      <td>C</td>\n",
       "      <td>4+</td>\n",
       "      <td>0</td>\n",
       "      <td>8</td>\n",
       "      <td>7969</td>\n",
       "    </tr>\n",
       "  </tbody>\n",
       "</table>\n",
       "</div>"
      ],
      "text/plain": [
       "   User_ID Product_ID Gender   Age Occupation City_Category  \\\n",
       "0  1000001  P00069042      F  0-17         10             A   \n",
       "1  1000001  P00248942      F  0-17         10             A   \n",
       "2  1000001  P00087842      F  0-17         10             A   \n",
       "3  1000001  P00085442      F  0-17         10             A   \n",
       "4  1000002  P00285442      M   55+         16             C   \n",
       "\n",
       "  Stay_In_Current_City_Years Marital_Status Product_Category  Purchase  \n",
       "0                          2              0                3      8370  \n",
       "1                          2              0                1     15200  \n",
       "2                          2              0               12      1422  \n",
       "3                          2              0               12      1057  \n",
       "4                         4+              0                8      7969  "
      ]
     },
     "execution_count": 70,
     "metadata": {},
     "output_type": "execute_result"
    }
   ],
   "source": [
    "#Printing the first 5 rows of the DataFrame\n",
    "df.head()"
   ]
  },
  {
   "cell_type": "markdown",
   "id": "795eef46",
   "metadata": {},
   "source": [
    "### 1.1 Primary Analysis"
   ]
  },
  {
   "cell_type": "code",
   "execution_count": 5,
   "id": "a7cd731a",
   "metadata": {},
   "outputs": [
    {
     "data": {
      "text/plain": [
       "(550068, 10)"
      ]
     },
     "execution_count": 5,
     "metadata": {},
     "output_type": "execute_result"
    }
   ],
   "source": [
    "df.shape"
   ]
  },
  {
   "cell_type": "code",
   "execution_count": 6,
   "id": "6100df33",
   "metadata": {},
   "outputs": [
    {
     "name": "stdout",
     "output_type": "stream",
     "text": [
      "<class 'pandas.core.frame.DataFrame'>\n",
      "RangeIndex: 550068 entries, 0 to 550067\n",
      "Data columns (total 10 columns):\n",
      " #   Column                      Non-Null Count   Dtype \n",
      "---  ------                      --------------   ----- \n",
      " 0   User_ID                     550068 non-null  int64 \n",
      " 1   Product_ID                  550068 non-null  object\n",
      " 2   Gender                      550068 non-null  object\n",
      " 3   Age                         550068 non-null  object\n",
      " 4   Occupation                  550068 non-null  int64 \n",
      " 5   City_Category               550068 non-null  object\n",
      " 6   Stay_In_Current_City_Years  550068 non-null  object\n",
      " 7   Marital_Status              550068 non-null  int64 \n",
      " 8   Product_Category            550068 non-null  int64 \n",
      " 9   Purchase                    550068 non-null  int64 \n",
      "dtypes: int64(5), object(5)\n",
      "memory usage: 42.0+ MB\n"
     ]
    }
   ],
   "source": [
    "df.info()"
   ]
  },
  {
   "cell_type": "code",
   "execution_count": 7,
   "id": "9a0085f5",
   "metadata": {},
   "outputs": [
    {
     "data": {
      "text/html": [
       "<div>\n",
       "<style scoped>\n",
       "    .dataframe tbody tr th:only-of-type {\n",
       "        vertical-align: middle;\n",
       "    }\n",
       "\n",
       "    .dataframe tbody tr th {\n",
       "        vertical-align: top;\n",
       "    }\n",
       "\n",
       "    .dataframe thead th {\n",
       "        text-align: right;\n",
       "    }\n",
       "</style>\n",
       "<table border=\"1\" class=\"dataframe\">\n",
       "  <thead>\n",
       "    <tr style=\"text-align: right;\">\n",
       "      <th></th>\n",
       "      <th>User_ID</th>\n",
       "      <th>Occupation</th>\n",
       "      <th>Marital_Status</th>\n",
       "      <th>Product_Category</th>\n",
       "      <th>Purchase</th>\n",
       "    </tr>\n",
       "  </thead>\n",
       "  <tbody>\n",
       "    <tr>\n",
       "      <th>count</th>\n",
       "      <td>5.500680e+05</td>\n",
       "      <td>550068.000000</td>\n",
       "      <td>550068.000000</td>\n",
       "      <td>550068.000000</td>\n",
       "      <td>550068.000000</td>\n",
       "    </tr>\n",
       "    <tr>\n",
       "      <th>mean</th>\n",
       "      <td>1.003029e+06</td>\n",
       "      <td>8.076707</td>\n",
       "      <td>0.409653</td>\n",
       "      <td>5.404270</td>\n",
       "      <td>9263.968713</td>\n",
       "    </tr>\n",
       "    <tr>\n",
       "      <th>std</th>\n",
       "      <td>1.727592e+03</td>\n",
       "      <td>6.522660</td>\n",
       "      <td>0.491770</td>\n",
       "      <td>3.936211</td>\n",
       "      <td>5023.065394</td>\n",
       "    </tr>\n",
       "    <tr>\n",
       "      <th>min</th>\n",
       "      <td>1.000001e+06</td>\n",
       "      <td>0.000000</td>\n",
       "      <td>0.000000</td>\n",
       "      <td>1.000000</td>\n",
       "      <td>12.000000</td>\n",
       "    </tr>\n",
       "    <tr>\n",
       "      <th>25%</th>\n",
       "      <td>1.001516e+06</td>\n",
       "      <td>2.000000</td>\n",
       "      <td>0.000000</td>\n",
       "      <td>1.000000</td>\n",
       "      <td>5823.000000</td>\n",
       "    </tr>\n",
       "    <tr>\n",
       "      <th>50%</th>\n",
       "      <td>1.003077e+06</td>\n",
       "      <td>7.000000</td>\n",
       "      <td>0.000000</td>\n",
       "      <td>5.000000</td>\n",
       "      <td>8047.000000</td>\n",
       "    </tr>\n",
       "    <tr>\n",
       "      <th>75%</th>\n",
       "      <td>1.004478e+06</td>\n",
       "      <td>14.000000</td>\n",
       "      <td>1.000000</td>\n",
       "      <td>8.000000</td>\n",
       "      <td>12054.000000</td>\n",
       "    </tr>\n",
       "    <tr>\n",
       "      <th>max</th>\n",
       "      <td>1.006040e+06</td>\n",
       "      <td>20.000000</td>\n",
       "      <td>1.000000</td>\n",
       "      <td>20.000000</td>\n",
       "      <td>23961.000000</td>\n",
       "    </tr>\n",
       "  </tbody>\n",
       "</table>\n",
       "</div>"
      ],
      "text/plain": [
       "            User_ID     Occupation  Marital_Status  Product_Category  \\\n",
       "count  5.500680e+05  550068.000000   550068.000000     550068.000000   \n",
       "mean   1.003029e+06       8.076707        0.409653          5.404270   \n",
       "std    1.727592e+03       6.522660        0.491770          3.936211   \n",
       "min    1.000001e+06       0.000000        0.000000          1.000000   \n",
       "25%    1.001516e+06       2.000000        0.000000          1.000000   \n",
       "50%    1.003077e+06       7.000000        0.000000          5.000000   \n",
       "75%    1.004478e+06      14.000000        1.000000          8.000000   \n",
       "max    1.006040e+06      20.000000        1.000000         20.000000   \n",
       "\n",
       "            Purchase  \n",
       "count  550068.000000  \n",
       "mean     9263.968713  \n",
       "std      5023.065394  \n",
       "min        12.000000  \n",
       "25%      5823.000000  \n",
       "50%      8047.000000  \n",
       "75%     12054.000000  \n",
       "max     23961.000000  "
      ]
     },
     "execution_count": 7,
     "metadata": {},
     "output_type": "execute_result"
    }
   ],
   "source": [
    "df.describe()"
   ]
  },
  {
   "cell_type": "markdown",
   "id": "6cf2ddfb",
   "metadata": {},
   "source": [
    "### 1. The dataset has 550068 rows and 10 columns\n",
    "### 2. 5 columns are of integer data type and 5 of object data type\n",
    "### 3. There are no missing values in any of the columns\n",
    "### 4. The statistical analysis gives the following insights about the customers\n",
    "###     4.1 The purchase amount has a mean value of 9263 dollars and 75% of amounts lie below 12054 dollars\n",
    "###     4.2 Occupation has been masked with 21 categories from 0 to 20.\n",
    "###     4.3 Product_Category has been masked with 20 categories from 1 to 20."
   ]
  },
  {
   "cell_type": "markdown",
   "id": "46545f07",
   "metadata": {},
   "source": [
    "### 1.2 Non Graphical Analysis"
   ]
  },
  {
   "cell_type": "code",
   "execution_count": 8,
   "id": "27e979a0",
   "metadata": {},
   "outputs": [
    {
     "data": {
      "text/plain": [
       "M    414259\n",
       "F    135809\n",
       "Name: Gender, dtype: int64"
      ]
     },
     "execution_count": 8,
     "metadata": {},
     "output_type": "execute_result"
    }
   ],
   "source": [
    "df['Gender'].value_counts()"
   ]
  },
  {
   "cell_type": "code",
   "execution_count": 9,
   "id": "9b27ec69",
   "metadata": {},
   "outputs": [
    {
     "data": {
      "text/plain": [
       "26-35    219587\n",
       "36-45    110013\n",
       "18-25     99660\n",
       "46-50     45701\n",
       "51-55     38501\n",
       "55+       21504\n",
       "0-17      15102\n",
       "Name: Age, dtype: int64"
      ]
     },
     "execution_count": 9,
     "metadata": {},
     "output_type": "execute_result"
    }
   ],
   "source": [
    "df[\"Age\"].value_counts()"
   ]
  },
  {
   "cell_type": "code",
   "execution_count": 10,
   "id": "81d23df5",
   "metadata": {},
   "outputs": [
    {
     "data": {
      "text/plain": [
       "4     72308\n",
       "0     69638\n",
       "7     59133\n",
       "1     47426\n",
       "17    40043\n",
       "20    33562\n",
       "12    31179\n",
       "14    27309\n",
       "2     26588\n",
       "16    25371\n",
       "6     20355\n",
       "3     17650\n",
       "10    12930\n",
       "5     12177\n",
       "15    12165\n",
       "11    11586\n",
       "19     8461\n",
       "13     7728\n",
       "18     6622\n",
       "9      6291\n",
       "8      1546\n",
       "Name: Occupation, dtype: int64"
      ]
     },
     "execution_count": 10,
     "metadata": {},
     "output_type": "execute_result"
    }
   ],
   "source": [
    "df['Occupation'].value_counts()"
   ]
  },
  {
   "cell_type": "code",
   "execution_count": 11,
   "id": "a09b109d",
   "metadata": {},
   "outputs": [
    {
     "data": {
      "text/plain": [
       "B    231173\n",
       "C    171175\n",
       "A    147720\n",
       "Name: City_Category, dtype: int64"
      ]
     },
     "execution_count": 11,
     "metadata": {},
     "output_type": "execute_result"
    }
   ],
   "source": [
    "df['City_Category'].value_counts()"
   ]
  },
  {
   "cell_type": "code",
   "execution_count": 12,
   "id": "7f375280",
   "metadata": {},
   "outputs": [
    {
     "data": {
      "text/plain": [
       "1     193821\n",
       "2     101838\n",
       "3      95285\n",
       "4+     84726\n",
       "0      74398\n",
       "Name: Stay_In_Current_City_Years, dtype: int64"
      ]
     },
     "execution_count": 12,
     "metadata": {},
     "output_type": "execute_result"
    }
   ],
   "source": [
    "df['Stay_In_Current_City_Years'].value_counts()"
   ]
  },
  {
   "cell_type": "code",
   "execution_count": 13,
   "id": "ab14460d",
   "metadata": {},
   "outputs": [
    {
     "data": {
      "text/plain": [
       "0    324731\n",
       "1    225337\n",
       "Name: Marital_Status, dtype: int64"
      ]
     },
     "execution_count": 13,
     "metadata": {},
     "output_type": "execute_result"
    }
   ],
   "source": [
    "df[\"Marital_Status\"].value_counts()"
   ]
  },
  {
   "cell_type": "code",
   "execution_count": 14,
   "id": "b2eefaa6",
   "metadata": {},
   "outputs": [
    {
     "data": {
      "text/plain": [
       "5     150933\n",
       "1     140378\n",
       "8     113925\n",
       "11     24287\n",
       "2      23864\n",
       "6      20466\n",
       "3      20213\n",
       "4      11753\n",
       "16      9828\n",
       "15      6290\n",
       "13      5549\n",
       "10      5125\n",
       "12      3947\n",
       "7       3721\n",
       "18      3125\n",
       "20      2550\n",
       "19      1603\n",
       "14      1523\n",
       "17       578\n",
       "9        410\n",
       "Name: Product_Category, dtype: int64"
      ]
     },
     "execution_count": 14,
     "metadata": {},
     "output_type": "execute_result"
    }
   ],
   "source": [
    "df[\"Product_Category\"].value_counts()"
   ]
  },
  {
   "cell_type": "code",
   "execution_count": 15,
   "id": "1b4c92a3",
   "metadata": {},
   "outputs": [
    {
     "data": {
      "text/html": [
       "<div>\n",
       "<style scoped>\n",
       "    .dataframe tbody tr th:only-of-type {\n",
       "        vertical-align: middle;\n",
       "    }\n",
       "\n",
       "    .dataframe tbody tr th {\n",
       "        vertical-align: top;\n",
       "    }\n",
       "\n",
       "    .dataframe thead th {\n",
       "        text-align: right;\n",
       "    }\n",
       "</style>\n",
       "<table border=\"1\" class=\"dataframe\">\n",
       "  <thead>\n",
       "    <tr style=\"text-align: right;\">\n",
       "      <th></th>\n",
       "      <th>Column_Name</th>\n",
       "      <th>Num_Unique</th>\n",
       "    </tr>\n",
       "  </thead>\n",
       "  <tbody>\n",
       "    <tr>\n",
       "      <th>2</th>\n",
       "      <td>Gender</td>\n",
       "      <td>2</td>\n",
       "    </tr>\n",
       "    <tr>\n",
       "      <th>7</th>\n",
       "      <td>Marital_Status</td>\n",
       "      <td>2</td>\n",
       "    </tr>\n",
       "    <tr>\n",
       "      <th>5</th>\n",
       "      <td>City_Category</td>\n",
       "      <td>3</td>\n",
       "    </tr>\n",
       "    <tr>\n",
       "      <th>6</th>\n",
       "      <td>Stay_In_Current_City_Years</td>\n",
       "      <td>5</td>\n",
       "    </tr>\n",
       "    <tr>\n",
       "      <th>3</th>\n",
       "      <td>Age</td>\n",
       "      <td>7</td>\n",
       "    </tr>\n",
       "    <tr>\n",
       "      <th>8</th>\n",
       "      <td>Product_Category</td>\n",
       "      <td>20</td>\n",
       "    </tr>\n",
       "    <tr>\n",
       "      <th>4</th>\n",
       "      <td>Occupation</td>\n",
       "      <td>21</td>\n",
       "    </tr>\n",
       "    <tr>\n",
       "      <th>1</th>\n",
       "      <td>Product_ID</td>\n",
       "      <td>3631</td>\n",
       "    </tr>\n",
       "    <tr>\n",
       "      <th>0</th>\n",
       "      <td>User_ID</td>\n",
       "      <td>5891</td>\n",
       "    </tr>\n",
       "    <tr>\n",
       "      <th>9</th>\n",
       "      <td>Purchase</td>\n",
       "      <td>18105</td>\n",
       "    </tr>\n",
       "  </tbody>\n",
       "</table>\n",
       "</div>"
      ],
      "text/plain": [
       "                  Column_Name  Num_Unique\n",
       "2                      Gender           2\n",
       "7              Marital_Status           2\n",
       "5               City_Category           3\n",
       "6  Stay_In_Current_City_Years           5\n",
       "3                         Age           7\n",
       "8            Product_Category          20\n",
       "4                  Occupation          21\n",
       "1                  Product_ID        3631\n",
       "0                     User_ID        5891\n",
       "9                    Purchase       18105"
      ]
     },
     "execution_count": 15,
     "metadata": {},
     "output_type": "execute_result"
    }
   ],
   "source": [
    "#Summarizing the number of unique values in each column\n",
    "unique_counts=pd.DataFrame.from_records([(col,df[col].nunique()) for col in df.columns],columns=['Column_Name','Num_Unique'])\n",
    "unique_counts.sort_values(by='Num_Unique')"
   ]
  },
  {
   "cell_type": "markdown",
   "id": "5e52d48c",
   "metadata": {},
   "source": [
    "### 1. Based on the summary of unique values, all the columns except Product_ID, User_ID and Purchase can be considered as categorical\n",
    "### 2. Ages from 0 to 55+ have been categorized into 7 different bins \n",
    "### 3. The dataset includes Male and Female customers, both Married and Single\n",
    "### 4. There are 5891 unique customers in the dataset and 3631 unique products"
   ]
  },
  {
   "cell_type": "code",
   "execution_count": 16,
   "id": "8a9005d8",
   "metadata": {},
   "outputs": [],
   "source": [
    "#Converting columns to category datatype to reduce memory usage\n",
    "cols_exc=['Product_ID','User_ID','Purchase']\n",
    "for i in df.columns:\n",
    "    if i not in cols_exc:\n",
    "        df[i]=df[i].astype('category')"
   ]
  },
  {
   "cell_type": "code",
   "execution_count": 17,
   "id": "a9c0393b",
   "metadata": {},
   "outputs": [
    {
     "name": "stdout",
     "output_type": "stream",
     "text": [
      "<class 'pandas.core.frame.DataFrame'>\n",
      "RangeIndex: 550068 entries, 0 to 550067\n",
      "Data columns (total 10 columns):\n",
      " #   Column                      Non-Null Count   Dtype   \n",
      "---  ------                      --------------   -----   \n",
      " 0   User_ID                     550068 non-null  int64   \n",
      " 1   Product_ID                  550068 non-null  object  \n",
      " 2   Gender                      550068 non-null  category\n",
      " 3   Age                         550068 non-null  category\n",
      " 4   Occupation                  550068 non-null  category\n",
      " 5   City_Category               550068 non-null  category\n",
      " 6   Stay_In_Current_City_Years  550068 non-null  category\n",
      " 7   Marital_Status              550068 non-null  category\n",
      " 8   Product_Category            550068 non-null  category\n",
      " 9   Purchase                    550068 non-null  int64   \n",
      "dtypes: category(7), int64(2), object(1)\n",
      "memory usage: 16.3+ MB\n"
     ]
    }
   ],
   "source": [
    "#Checking the reduction in memory usage\n",
    "df.info()"
   ]
  },
  {
   "cell_type": "markdown",
   "id": "a351a9f2",
   "metadata": {},
   "source": [
    "The memory usage has been reduced from 42MB to 16.3MB"
   ]
  },
  {
   "cell_type": "markdown",
   "id": "08c83569",
   "metadata": {},
   "source": [
    "### 1.3 Visual Analysis"
   ]
  },
  {
   "cell_type": "markdown",
   "id": "6b582d51",
   "metadata": {},
   "source": [
    "### Univariate Analysis"
   ]
  },
  {
   "cell_type": "markdown",
   "id": "d349d4c0",
   "metadata": {},
   "source": [
    "### 1. Gender"
   ]
  },
  {
   "cell_type": "code",
   "execution_count": 18,
   "id": "3f2cc9a1",
   "metadata": {},
   "outputs": [
    {
     "data": {
      "text/plain": [
       "Gender\n",
       "F    28.28\n",
       "M    71.72\n",
       "Name: User_ID, dtype: float64"
      ]
     },
     "execution_count": 18,
     "metadata": {},
     "output_type": "execute_result"
    }
   ],
   "source": [
    "a=round(df.groupby('Gender')[\"User_ID\"].nunique()/df['User_ID'].nunique()*100,2)\n",
    "a"
   ]
  },
  {
   "cell_type": "code",
   "execution_count": 19,
   "id": "9fa67964",
   "metadata": {},
   "outputs": [
    {
     "data": {
      "text/plain": [
       "<AxesSubplot:xlabel='Gender', ylabel='User_ID'>"
      ]
     },
     "execution_count": 19,
     "metadata": {},
     "output_type": "execute_result"
    },
    {
     "data": {
      "image/png": "[encoded data removed]",
      "text/plain": [
       "<Figure size 432x288 with 1 Axes>"
      ]
     },
     "metadata": {
      "needs_background": "light"
     },
     "output_type": "display_data"
    }
   ],
   "source": [
    "a=df.groupby('Gender')[\"User_ID\"].nunique().reset_index()\n",
    "sns.barplot(x='Gender',y='User_ID',data=a)"
   ]
  },
  {
   "cell_type": "markdown",
   "id": "3ecbbbc1",
   "metadata": {},
   "source": [
    "### The dataset includes 72% Males and 28% Females"
   ]
  },
  {
   "cell_type": "markdown",
   "id": "246cbd4a",
   "metadata": {},
   "source": [
    "### 2. Marital_Status"
   ]
  },
  {
   "cell_type": "code",
   "execution_count": 20,
   "id": "830d0f93",
   "metadata": {},
   "outputs": [
    {
     "data": {
      "text/plain": [
       "Marital_Status\n",
       "0    58.0\n",
       "1    42.0\n",
       "Name: User_ID, dtype: float64"
      ]
     },
     "execution_count": 20,
     "metadata": {},
     "output_type": "execute_result"
    }
   ],
   "source": [
    "a=round(df.groupby('Marital_Status')[\"User_ID\"].nunique()/df['User_ID'].nunique()*100,2)\n",
    "a"
   ]
  },
  {
   "cell_type": "code",
   "execution_count": 21,
   "id": "8779cfa3",
   "metadata": {},
   "outputs": [
    {
     "data": {
      "text/plain": [
       "<AxesSubplot:xlabel='Marital_Status', ylabel='User_ID'>"
      ]
     },
     "execution_count": 21,
     "metadata": {},
     "output_type": "execute_result"
    },
    {
     "data": {
      "image/png": "[encoded data removed]",
      "text/plain": [
       "<Figure size 432x288 with 1 Axes>"
      ]
     },
     "metadata": {
      "needs_background": "light"
     },
     "output_type": "display_data"
    }
   ],
   "source": [
    "a=df.groupby('Marital_Status')[\"User_ID\"].nunique().reset_index()\n",
    "sns.barplot(x='Marital_Status',y='User_ID',data=a)"
   ]
  },
  {
   "cell_type": "markdown",
   "id": "443d2174",
   "metadata": {},
   "source": [
    "### 58% of the customers are single and 42% are married (Assuming 0 is Single and 1 is Married)"
   ]
  },
  {
   "cell_type": "markdown",
   "id": "04ed31ae",
   "metadata": {},
   "source": [
    "### 3. Age"
   ]
  },
  {
   "cell_type": "code",
   "execution_count": 22,
   "id": "6cbfc1fd",
   "metadata": {},
   "outputs": [
    {
     "data": {
      "text/plain": [
       "Age\n",
       "0-17      3.70\n",
       "18-25    18.15\n",
       "26-35    34.85\n",
       "36-45    19.81\n",
       "46-50     9.01\n",
       "51-55     8.16\n",
       "55+       6.31\n",
       "Name: User_ID, dtype: float64"
      ]
     },
     "execution_count": 22,
     "metadata": {},
     "output_type": "execute_result"
    }
   ],
   "source": [
    "a=round(df.groupby('Age')[\"User_ID\"].nunique()/df['User_ID'].nunique()*100,2)\n",
    "a"
   ]
  },
  {
   "cell_type": "code",
   "execution_count": 23,
   "id": "5b383de9",
   "metadata": {},
   "outputs": [
    {
     "data": {
      "text/plain": [
       "<AxesSubplot:xlabel='Age', ylabel='User_ID'>"
      ]
     },
     "execution_count": 23,
     "metadata": {},
     "output_type": "execute_result"
    },
    {
     "data": {
      "image/png": "[encoded data removed]",
      "text/plain": [
       "<Figure size 432x288 with 1 Axes>"
      ]
     },
     "metadata": {
      "needs_background": "light"
     },
     "output_type": "display_data"
    }
   ],
   "source": [
    "a=df.groupby('Age')[\"User_ID\"].nunique().reset_index()\n",
    "sns.barplot(x='Age',y='User_ID',data=a)"
   ]
  },
  {
   "cell_type": "markdown",
   "id": "3ddefef2",
   "metadata": {},
   "source": [
    "### Nearly 35% of the customers are in the age group of 26-35. 75% of the customers are in the age groups of 18 to 45."
   ]
  },
  {
   "cell_type": "markdown",
   "id": "52e23656",
   "metadata": {},
   "source": [
    "### 4. City_Category"
   ]
  },
  {
   "cell_type": "code",
   "execution_count": 24,
   "id": "c26f61f7",
   "metadata": {},
   "outputs": [
    {
     "data": {
      "text/plain": [
       "City_Category\n",
       "A    17.74\n",
       "B    28.98\n",
       "C    53.28\n",
       "Name: User_ID, dtype: float64"
      ]
     },
     "execution_count": 24,
     "metadata": {},
     "output_type": "execute_result"
    }
   ],
   "source": [
    "a=round(df.groupby('City_Category')[\"User_ID\"].nunique()/df['User_ID'].nunique()*100,2)\n",
    "a"
   ]
  },
  {
   "cell_type": "code",
   "execution_count": 25,
   "id": "c33f0044",
   "metadata": {},
   "outputs": [
    {
     "data": {
      "text/plain": [
       "<AxesSubplot:xlabel='City_Category', ylabel='User_ID'>"
      ]
     },
     "execution_count": 25,
     "metadata": {},
     "output_type": "execute_result"
    },
    {
     "data": {
      "image/png": "[encoded data removed]",
      "text/plain": [
       "<Figure size 432x288 with 1 Axes>"
      ]
     },
     "metadata": {
      "needs_background": "light"
     },
     "output_type": "display_data"
    }
   ],
   "source": [
    "a=df.groupby('City_Category')[\"User_ID\"].nunique().reset_index()\n",
    "sns.barplot(x='City_Category',y='User_ID',data=a)"
   ]
  },
  {
   "cell_type": "markdown",
   "id": "c5e8cc51",
   "metadata": {},
   "source": [
    "### 53% of the customers are from City category C followed by 29% from B and 18% from A"
   ]
  },
  {
   "cell_type": "markdown",
   "id": "8e65b611",
   "metadata": {},
   "source": [
    "### 5. Stay_In_Current_City_Years"
   ]
  },
  {
   "cell_type": "code",
   "execution_count": 26,
   "id": "093594f2",
   "metadata": {},
   "outputs": [
    {
     "data": {
      "text/plain": [
       "Stay_In_Current_City_Years\n",
       "0     13.10\n",
       "1     35.41\n",
       "2     19.44\n",
       "3     16.62\n",
       "4+    15.43\n",
       "Name: User_ID, dtype: float64"
      ]
     },
     "execution_count": 26,
     "metadata": {},
     "output_type": "execute_result"
    }
   ],
   "source": [
    "a=round(df.groupby('Stay_In_Current_City_Years')[\"User_ID\"].nunique()/df['User_ID'].nunique()*100,2)\n",
    "a"
   ]
  },
  {
   "cell_type": "code",
   "execution_count": 27,
   "id": "fe6e1953",
   "metadata": {},
   "outputs": [
    {
     "data": {
      "text/plain": [
       "<AxesSubplot:xlabel='Stay_In_Current_City_Years', ylabel='User_ID'>"
      ]
     },
     "execution_count": 27,
     "metadata": {},
     "output_type": "execute_result"
    },
    {
     "data": {
      "image/png": "[encoded data removed]",
      "text/plain": [
       "<Figure size 432x288 with 1 Axes>"
      ]
     },
     "metadata": {
      "needs_background": "light"
     },
     "output_type": "display_data"
    }
   ],
   "source": [
    "a=df.groupby('Stay_In_Current_City_Years')[\"User_ID\"].nunique().reset_index()\n",
    "sns.barplot(x='Stay_In_Current_City_Years',y='User_ID',data=a)"
   ]
  },
  {
   "cell_type": "markdown",
   "id": "f0f08926",
   "metadata": {},
   "source": [
    "### 35% of the customers have been staying in the current city for 1 year. The remaining customers are almost equally distributed among the other categories"
   ]
  },
  {
   "cell_type": "markdown",
   "id": "f232de19",
   "metadata": {},
   "source": [
    "### 6. Occupation"
   ]
  },
  {
   "cell_type": "code",
   "execution_count": 28,
   "id": "410cb02d",
   "metadata": {},
   "outputs": [
    {
     "data": {
      "text/plain": [
       "Occupation\n",
       "4     740\n",
       "0     688\n",
       "7     669\n",
       "1     517\n",
       "17    491\n",
       "Name: User_ID, dtype: int64"
      ]
     },
     "execution_count": 28,
     "metadata": {},
     "output_type": "execute_result"
    }
   ],
   "source": [
    "a=df.groupby('Occupation')[\"User_ID\"].nunique().sort_values(ascending=False)\n",
    "a=a[0:5]\n",
    "a"
   ]
  },
  {
   "cell_type": "code",
   "execution_count": 29,
   "id": "80576a33",
   "metadata": {},
   "outputs": [
    {
     "data": {
      "text/plain": [
       "<AxesSubplot:xlabel='Occupation', ylabel='User_ID'>"
      ]
     },
     "execution_count": 29,
     "metadata": {},
     "output_type": "execute_result"
    },
    {
     "data": {
      "image/png": "[encoded data removed]",
      "text/plain": [
       "<Figure size 432x288 with 1 Axes>"
      ]
     },
     "metadata": {
      "needs_background": "light"
     },
     "output_type": "display_data"
    }
   ],
   "source": [
    "a=a.reset_index()\n",
    "sns.barplot(x='Occupation',y='User_ID',data=a)"
   ]
  },
  {
   "cell_type": "markdown",
   "id": "823dbbbf",
   "metadata": {},
   "source": [
    "### The top 3 Occupation categories are 4 ,0 and 7"
   ]
  },
  {
   "cell_type": "markdown",
   "id": "b23fd916",
   "metadata": {},
   "source": [
    "### 7. Product_Category"
   ]
  },
  {
   "cell_type": "code",
   "execution_count": 30,
   "id": "f0262830",
   "metadata": {},
   "outputs": [
    {
     "data": {
      "text/plain": [
       "Product_Category\n",
       "1    5767\n",
       "5    5751\n",
       "8    5659\n",
       "2    4296\n",
       "6    4085\n",
       "Name: User_ID, dtype: int64"
      ]
     },
     "execution_count": 30,
     "metadata": {},
     "output_type": "execute_result"
    }
   ],
   "source": [
    "a=df.groupby('Product_Category')[\"User_ID\"].nunique().sort_values(ascending=False)\n",
    "a=a[0:5]\n",
    "a"
   ]
  },
  {
   "cell_type": "code",
   "execution_count": 31,
   "id": "9d82a12c",
   "metadata": {},
   "outputs": [
    {
     "data": {
      "text/plain": [
       "<AxesSubplot:xlabel='Product_Category', ylabel='User_ID'>"
      ]
     },
     "execution_count": 31,
     "metadata": {},
     "output_type": "execute_result"
    },
    {
     "data": {
      "image/png": "[encoded data removed]",
      "text/plain": [
       "<Figure size 432x288 with 1 Axes>"
      ]
     },
     "metadata": {
      "needs_background": "light"
     },
     "output_type": "display_data"
    }
   ],
   "source": [
    "a=a.reset_index()\n",
    "sns.barplot(x='Product_Category',y='User_ID',data=a)"
   ]
  },
  {
   "cell_type": "markdown",
   "id": "332c3e41",
   "metadata": {},
   "source": [
    "### The top 3 most sold product categories are 1, 5 and 8"
   ]
  },
  {
   "cell_type": "markdown",
   "id": "0a09c63d",
   "metadata": {},
   "source": [
    "### 8. Purchase"
   ]
  },
  {
   "cell_type": "code",
   "execution_count": 32,
   "id": "6c6b608c",
   "metadata": {},
   "outputs": [
    {
     "data": {
      "text/html": [
       "<div>\n",
       "<style scoped>\n",
       "    .dataframe tbody tr th:only-of-type {\n",
       "        vertical-align: middle;\n",
       "    }\n",
       "\n",
       "    .dataframe tbody tr th {\n",
       "        vertical-align: top;\n",
       "    }\n",
       "\n",
       "    .dataframe thead th {\n",
       "        text-align: right;\n",
       "    }\n",
       "</style>\n",
       "<table border=\"1\" class=\"dataframe\">\n",
       "  <thead>\n",
       "    <tr style=\"text-align: right;\">\n",
       "      <th></th>\n",
       "      <th>User_ID</th>\n",
       "      <th>Purchase</th>\n",
       "    </tr>\n",
       "  </thead>\n",
       "  <tbody>\n",
       "    <tr>\n",
       "      <th>0</th>\n",
       "      <td>1000001</td>\n",
       "      <td>334093</td>\n",
       "    </tr>\n",
       "    <tr>\n",
       "      <th>1</th>\n",
       "      <td>1000002</td>\n",
       "      <td>810472</td>\n",
       "    </tr>\n",
       "    <tr>\n",
       "      <th>2</th>\n",
       "      <td>1000003</td>\n",
       "      <td>341635</td>\n",
       "    </tr>\n",
       "    <tr>\n",
       "      <th>3</th>\n",
       "      <td>1000004</td>\n",
       "      <td>206468</td>\n",
       "    </tr>\n",
       "    <tr>\n",
       "      <th>4</th>\n",
       "      <td>1000005</td>\n",
       "      <td>821001</td>\n",
       "    </tr>\n",
       "    <tr>\n",
       "      <th>...</th>\n",
       "      <td>...</td>\n",
       "      <td>...</td>\n",
       "    </tr>\n",
       "    <tr>\n",
       "      <th>5886</th>\n",
       "      <td>1006036</td>\n",
       "      <td>4116058</td>\n",
       "    </tr>\n",
       "    <tr>\n",
       "      <th>5887</th>\n",
       "      <td>1006037</td>\n",
       "      <td>1119538</td>\n",
       "    </tr>\n",
       "    <tr>\n",
       "      <th>5888</th>\n",
       "      <td>1006038</td>\n",
       "      <td>90034</td>\n",
       "    </tr>\n",
       "    <tr>\n",
       "      <th>5889</th>\n",
       "      <td>1006039</td>\n",
       "      <td>590319</td>\n",
       "    </tr>\n",
       "    <tr>\n",
       "      <th>5890</th>\n",
       "      <td>1006040</td>\n",
       "      <td>1653299</td>\n",
       "    </tr>\n",
       "  </tbody>\n",
       "</table>\n",
       "<p>5891 rows × 2 columns</p>\n",
       "</div>"
      ],
      "text/plain": [
       "      User_ID  Purchase\n",
       "0     1000001    334093\n",
       "1     1000002    810472\n",
       "2     1000003    341635\n",
       "3     1000004    206468\n",
       "4     1000005    821001\n",
       "...       ...       ...\n",
       "5886  1006036   4116058\n",
       "5887  1006037   1119538\n",
       "5888  1006038     90034\n",
       "5889  1006039    590319\n",
       "5890  1006040   1653299\n",
       "\n",
       "[5891 rows x 2 columns]"
      ]
     },
     "execution_count": 32,
     "metadata": {},
     "output_type": "execute_result"
    }
   ],
   "source": [
    "a=df.groupby('User_ID')['Purchase'].sum().reset_index()\n",
    "a"
   ]
  },
  {
   "cell_type": "code",
   "execution_count": 33,
   "id": "20d26d9c",
   "metadata": {},
   "outputs": [
    {
     "data": {
      "text/plain": [
       "<AxesSubplot:xlabel='Purchase'>"
      ]
     },
     "execution_count": 33,
     "metadata": {},
     "output_type": "execute_result"
    },
    {
     "data": {
      "image/png": "[encoded data removed]",
      "text/plain": [
       "<Figure size 432x288 with 1 Axes>"
      ]
     },
     "metadata": {
      "needs_background": "light"
     },
     "output_type": "display_data"
    }
   ],
   "source": [
    "sns.boxplot(data=a, x='Purchase')"
   ]
  },
  {
   "cell_type": "code",
   "execution_count": 34,
   "id": "a44709b9",
   "metadata": {},
   "outputs": [
    {
     "data": {
      "text/plain": [
       "521213.0"
      ]
     },
     "execution_count": 34,
     "metadata": {},
     "output_type": "execute_result"
    }
   ],
   "source": [
    "a['Purchase'].median()"
   ]
  },
  {
   "cell_type": "markdown",
   "id": "c2ba3f7f",
   "metadata": {},
   "source": [
    "### The median value of purchase per user is 521213 Dollars. "
   ]
  },
  {
   "cell_type": "markdown",
   "id": "2245e623",
   "metadata": {},
   "source": [
    "### Bivariate Analysis"
   ]
  },
  {
   "cell_type": "markdown",
   "id": "c5449040",
   "metadata": {},
   "source": [
    "### 1. Gender vs Age"
   ]
  },
  {
   "cell_type": "code",
   "execution_count": 35,
   "id": "c8743984",
   "metadata": {},
   "outputs": [
    {
     "data": {
      "text/html": [
       "<div>\n",
       "<style scoped>\n",
       "    .dataframe tbody tr th:only-of-type {\n",
       "        vertical-align: middle;\n",
       "    }\n",
       "\n",
       "    .dataframe tbody tr th {\n",
       "        vertical-align: top;\n",
       "    }\n",
       "\n",
       "    .dataframe thead th {\n",
       "        text-align: right;\n",
       "    }\n",
       "</style>\n",
       "<table border=\"1\" class=\"dataframe\">\n",
       "  <thead>\n",
       "    <tr style=\"text-align: right;\">\n",
       "      <th></th>\n",
       "      <th>Gender</th>\n",
       "      <th>Age</th>\n",
       "      <th>User_ID</th>\n",
       "    </tr>\n",
       "  </thead>\n",
       "  <tbody>\n",
       "    <tr>\n",
       "      <th>9</th>\n",
       "      <td>M</td>\n",
       "      <td>26-35</td>\n",
       "      <td>1508</td>\n",
       "    </tr>\n",
       "    <tr>\n",
       "      <th>10</th>\n",
       "      <td>M</td>\n",
       "      <td>36-45</td>\n",
       "      <td>834</td>\n",
       "    </tr>\n",
       "    <tr>\n",
       "      <th>8</th>\n",
       "      <td>M</td>\n",
       "      <td>18-25</td>\n",
       "      <td>782</td>\n",
       "    </tr>\n",
       "    <tr>\n",
       "      <th>2</th>\n",
       "      <td>F</td>\n",
       "      <td>26-35</td>\n",
       "      <td>545</td>\n",
       "    </tr>\n",
       "    <tr>\n",
       "      <th>11</th>\n",
       "      <td>M</td>\n",
       "      <td>46-50</td>\n",
       "      <td>349</td>\n",
       "    </tr>\n",
       "    <tr>\n",
       "      <th>12</th>\n",
       "      <td>M</td>\n",
       "      <td>51-55</td>\n",
       "      <td>339</td>\n",
       "    </tr>\n",
       "    <tr>\n",
       "      <th>3</th>\n",
       "      <td>F</td>\n",
       "      <td>36-45</td>\n",
       "      <td>333</td>\n",
       "    </tr>\n",
       "    <tr>\n",
       "      <th>1</th>\n",
       "      <td>F</td>\n",
       "      <td>18-25</td>\n",
       "      <td>287</td>\n",
       "    </tr>\n",
       "    <tr>\n",
       "      <th>13</th>\n",
       "      <td>M</td>\n",
       "      <td>55+</td>\n",
       "      <td>273</td>\n",
       "    </tr>\n",
       "    <tr>\n",
       "      <th>4</th>\n",
       "      <td>F</td>\n",
       "      <td>46-50</td>\n",
       "      <td>182</td>\n",
       "    </tr>\n",
       "    <tr>\n",
       "      <th>5</th>\n",
       "      <td>F</td>\n",
       "      <td>51-55</td>\n",
       "      <td>142</td>\n",
       "    </tr>\n",
       "    <tr>\n",
       "      <th>7</th>\n",
       "      <td>M</td>\n",
       "      <td>0-17</td>\n",
       "      <td>140</td>\n",
       "    </tr>\n",
       "    <tr>\n",
       "      <th>6</th>\n",
       "      <td>F</td>\n",
       "      <td>55+</td>\n",
       "      <td>99</td>\n",
       "    </tr>\n",
       "    <tr>\n",
       "      <th>0</th>\n",
       "      <td>F</td>\n",
       "      <td>0-17</td>\n",
       "      <td>78</td>\n",
       "    </tr>\n",
       "  </tbody>\n",
       "</table>\n",
       "</div>"
      ],
      "text/plain": [
       "   Gender    Age  User_ID\n",
       "9       M  26-35     1508\n",
       "10      M  36-45      834\n",
       "8       M  18-25      782\n",
       "2       F  26-35      545\n",
       "11      M  46-50      349\n",
       "12      M  51-55      339\n",
       "3       F  36-45      333\n",
       "1       F  18-25      287\n",
       "13      M    55+      273\n",
       "4       F  46-50      182\n",
       "5       F  51-55      142\n",
       "7       M   0-17      140\n",
       "6       F    55+       99\n",
       "0       F   0-17       78"
      ]
     },
     "execution_count": 35,
     "metadata": {},
     "output_type": "execute_result"
    }
   ],
   "source": [
    "a=df.groupby(['Gender','Age'])['User_ID'].nunique().reset_index()\n",
    "a.sort_values(by='User_ID',ascending=False)"
   ]
  },
  {
   "cell_type": "code",
   "execution_count": 36,
   "id": "809f8fa2",
   "metadata": {},
   "outputs": [
    {
     "data": {
      "text/plain": [
       "<AxesSubplot:xlabel='Age', ylabel='User_ID'>"
      ]
     },
     "execution_count": 36,
     "metadata": {},
     "output_type": "execute_result"
    },
    {
     "data": {
      "image/png": "[encoded data removed]",
      "text/plain": [
       "<Figure size 432x288 with 1 Axes>"
      ]
     },
     "metadata": {
      "needs_background": "light"
     },
     "output_type": "display_data"
    }
   ],
   "source": [
    "sns.barplot(y='User_ID',x='Age',data=a[a['Gender']=='F'])"
   ]
  },
  {
   "cell_type": "code",
   "execution_count": 37,
   "id": "b743781f",
   "metadata": {},
   "outputs": [
    {
     "data": {
      "text/plain": [
       "<AxesSubplot:xlabel='Age', ylabel='User_ID'>"
      ]
     },
     "execution_count": 37,
     "metadata": {},
     "output_type": "execute_result"
    },
    {
     "data": {
      "image/png": "[encoded data removed]",
      "text/plain": [
       "<Figure size 432x288 with 1 Axes>"
      ]
     },
     "metadata": {
      "needs_background": "light"
     },
     "output_type": "display_data"
    }
   ],
   "source": [
    "sns.barplot(y='User_ID',x='Age',data=a[a['Gender']=='M'])"
   ]
  },
  {
   "cell_type": "markdown",
   "id": "93e1b30b",
   "metadata": {},
   "source": [
    "### Both Female and Male customers belong mostly to the 26-35 age group, followed by 36-45 and 18-25 groups."
   ]
  },
  {
   "cell_type": "markdown",
   "id": "5121dcc0",
   "metadata": {},
   "source": [
    "### 2. Gender vs Marital Status"
   ]
  },
  {
   "cell_type": "code",
   "execution_count": 38,
   "id": "8be96e17",
   "metadata": {},
   "outputs": [
    {
     "data": {
      "text/html": [
       "<div>\n",
       "<style scoped>\n",
       "    .dataframe tbody tr th:only-of-type {\n",
       "        vertical-align: middle;\n",
       "    }\n",
       "\n",
       "    .dataframe tbody tr th {\n",
       "        vertical-align: top;\n",
       "    }\n",
       "\n",
       "    .dataframe thead th {\n",
       "        text-align: right;\n",
       "    }\n",
       "</style>\n",
       "<table border=\"1\" class=\"dataframe\">\n",
       "  <thead>\n",
       "    <tr style=\"text-align: right;\">\n",
       "      <th></th>\n",
       "      <th>Gender</th>\n",
       "      <th>Marital_Status</th>\n",
       "      <th>User_ID</th>\n",
       "    </tr>\n",
       "  </thead>\n",
       "  <tbody>\n",
       "    <tr>\n",
       "      <th>2</th>\n",
       "      <td>M</td>\n",
       "      <td>0</td>\n",
       "      <td>2470</td>\n",
       "    </tr>\n",
       "    <tr>\n",
       "      <th>3</th>\n",
       "      <td>M</td>\n",
       "      <td>1</td>\n",
       "      <td>1755</td>\n",
       "    </tr>\n",
       "    <tr>\n",
       "      <th>0</th>\n",
       "      <td>F</td>\n",
       "      <td>0</td>\n",
       "      <td>947</td>\n",
       "    </tr>\n",
       "    <tr>\n",
       "      <th>1</th>\n",
       "      <td>F</td>\n",
       "      <td>1</td>\n",
       "      <td>719</td>\n",
       "    </tr>\n",
       "  </tbody>\n",
       "</table>\n",
       "</div>"
      ],
      "text/plain": [
       "  Gender Marital_Status  User_ID\n",
       "2      M              0     2470\n",
       "3      M              1     1755\n",
       "0      F              0      947\n",
       "1      F              1      719"
      ]
     },
     "execution_count": 38,
     "metadata": {},
     "output_type": "execute_result"
    }
   ],
   "source": [
    "a=df.groupby(['Gender','Marital_Status'])['User_ID'].nunique().reset_index()\n",
    "a.sort_values(by='User_ID',ascending=False)"
   ]
  },
  {
   "cell_type": "code",
   "execution_count": 39,
   "id": "fbfd6979",
   "metadata": {},
   "outputs": [
    {
     "data": {
      "text/plain": [
       "<AxesSubplot:xlabel='Marital_Status', ylabel='User_ID'>"
      ]
     },
     "execution_count": 39,
     "metadata": {},
     "output_type": "execute_result"
    },
    {
     "data": {
      "image/png": "[encoded data removed]",
      "text/plain": [
       "<Figure size 432x288 with 1 Axes>"
      ]
     },
     "metadata": {
      "needs_background": "light"
     },
     "output_type": "display_data"
    }
   ],
   "source": [
    "sns.barplot(y='User_ID',x='Marital_Status',data=a[a['Gender']=='F'])"
   ]
  },
  {
   "cell_type": "code",
   "execution_count": 40,
   "id": "8db6fca0",
   "metadata": {},
   "outputs": [
    {
     "data": {
      "text/plain": [
       "<AxesSubplot:xlabel='Marital_Status', ylabel='User_ID'>"
      ]
     },
     "execution_count": 40,
     "metadata": {},
     "output_type": "execute_result"
    },
    {
     "data": {
      "image/png": "[encoded data removed]",
      "text/plain": [
       "<Figure size 432x288 with 1 Axes>"
      ]
     },
     "metadata": {
      "needs_background": "light"
     },
     "output_type": "display_data"
    }
   ],
   "source": [
    "sns.barplot(y='User_ID',x='Marital_Status',data=a[a['Gender']=='M'])"
   ]
  },
  {
   "cell_type": "markdown",
   "id": "45adca15",
   "metadata": {},
   "source": [
    "### Both Female and Male categories have more number of single than married customers"
   ]
  },
  {
   "cell_type": "markdown",
   "id": "c83a1013",
   "metadata": {},
   "source": [
    "### 3. Gender vs City Category"
   ]
  },
  {
   "cell_type": "code",
   "execution_count": 41,
   "id": "63fdf668",
   "metadata": {},
   "outputs": [
    {
     "data": {
      "text/html": [
       "<div>\n",
       "<style scoped>\n",
       "    .dataframe tbody tr th:only-of-type {\n",
       "        vertical-align: middle;\n",
       "    }\n",
       "\n",
       "    .dataframe tbody tr th {\n",
       "        vertical-align: top;\n",
       "    }\n",
       "\n",
       "    .dataframe thead th {\n",
       "        text-align: right;\n",
       "    }\n",
       "</style>\n",
       "<table border=\"1\" class=\"dataframe\">\n",
       "  <thead>\n",
       "    <tr style=\"text-align: right;\">\n",
       "      <th></th>\n",
       "      <th>Gender</th>\n",
       "      <th>City_Category</th>\n",
       "      <th>User_ID</th>\n",
       "    </tr>\n",
       "  </thead>\n",
       "  <tbody>\n",
       "    <tr>\n",
       "      <th>5</th>\n",
       "      <td>M</td>\n",
       "      <td>C</td>\n",
       "      <td>2271</td>\n",
       "    </tr>\n",
       "    <tr>\n",
       "      <th>4</th>\n",
       "      <td>M</td>\n",
       "      <td>B</td>\n",
       "      <td>1204</td>\n",
       "    </tr>\n",
       "    <tr>\n",
       "      <th>2</th>\n",
       "      <td>F</td>\n",
       "      <td>C</td>\n",
       "      <td>868</td>\n",
       "    </tr>\n",
       "    <tr>\n",
       "      <th>3</th>\n",
       "      <td>M</td>\n",
       "      <td>A</td>\n",
       "      <td>750</td>\n",
       "    </tr>\n",
       "    <tr>\n",
       "      <th>1</th>\n",
       "      <td>F</td>\n",
       "      <td>B</td>\n",
       "      <td>503</td>\n",
       "    </tr>\n",
       "    <tr>\n",
       "      <th>0</th>\n",
       "      <td>F</td>\n",
       "      <td>A</td>\n",
       "      <td>295</td>\n",
       "    </tr>\n",
       "  </tbody>\n",
       "</table>\n",
       "</div>"
      ],
      "text/plain": [
       "  Gender City_Category  User_ID\n",
       "5      M             C     2271\n",
       "4      M             B     1204\n",
       "2      F             C      868\n",
       "3      M             A      750\n",
       "1      F             B      503\n",
       "0      F             A      295"
      ]
     },
     "execution_count": 41,
     "metadata": {},
     "output_type": "execute_result"
    }
   ],
   "source": [
    "a=df.groupby(['Gender','City_Category'])['User_ID'].nunique().reset_index()\n",
    "a.sort_values(by='User_ID',ascending=False)"
   ]
  },
  {
   "cell_type": "code",
   "execution_count": 42,
   "id": "8fd85f7a",
   "metadata": {},
   "outputs": [
    {
     "data": {
      "text/plain": [
       "<AxesSubplot:xlabel='City_Category', ylabel='User_ID'>"
      ]
     },
     "execution_count": 42,
     "metadata": {},
     "output_type": "execute_result"
    },
    {
     "data": {
      "image/png": "[encoded data removed]",
      "text/plain": [
       "<Figure size 432x288 with 1 Axes>"
      ]
     },
     "metadata": {
      "needs_background": "light"
     },
     "output_type": "display_data"
    }
   ],
   "source": [
    "sns.barplot(y='User_ID',x='City_Category',data=a[a['Gender']=='F'])"
   ]
  },
  {
   "cell_type": "code",
   "execution_count": 43,
   "id": "6434e9a4",
   "metadata": {},
   "outputs": [
    {
     "data": {
      "text/plain": [
       "<AxesSubplot:xlabel='City_Category', ylabel='User_ID'>"
      ]
     },
     "execution_count": 43,
     "metadata": {},
     "output_type": "execute_result"
    },
    {
     "data": {
      "image/png": "[encoded data removed]",
      "text/plain": [
       "<Figure size 432x288 with 1 Axes>"
      ]
     },
     "metadata": {
      "needs_background": "light"
     },
     "output_type": "display_data"
    }
   ],
   "source": [
    "sns.barplot(y='User_ID',x='City_Category',data=a[a['Gender']=='M'])"
   ]
  },
  {
   "cell_type": "markdown",
   "id": "88e9e0e5",
   "metadata": {},
   "source": [
    "### Both Female and Male categories have majority in City Category C followed by B and then A"
   ]
  },
  {
   "cell_type": "markdown",
   "id": "d8e54fb5",
   "metadata": {},
   "source": [
    "### 4. Purchase vs Gender"
   ]
  },
  {
   "cell_type": "code",
   "execution_count": 69,
   "id": "24b8dacb",
   "metadata": {},
   "outputs": [
    {
     "data": {
      "text/plain": [
       "<AxesSubplot:xlabel='Gender', ylabel='Purchase'>"
      ]
     },
     "execution_count": 69,
     "metadata": {},
     "output_type": "execute_result"
    },
    {
     "data": {
      "image/png": "[encoded data removed]",
      "text/plain": [
       "<Figure size 432x288 with 1 Axes>"
      ]
     },
     "metadata": {
      "needs_background": "light"
     },
     "output_type": "display_data"
    }
   ],
   "source": [
    "sns.barplot(data=df,x=df['Gender'],y=df['Purchase'])"
   ]
  },
  {
   "cell_type": "markdown",
   "id": "0984b3c5",
   "metadata": {},
   "source": [
    "### The total purchase amount is higher for Males when compared to Females"
   ]
  },
  {
   "cell_type": "code",
   "execution_count": 72,
   "id": "cc89830d",
   "metadata": {},
   "outputs": [
    {
     "data": {
      "text/html": [
       "<div>\n",
       "<style scoped>\n",
       "    .dataframe tbody tr th:only-of-type {\n",
       "        vertical-align: middle;\n",
       "    }\n",
       "\n",
       "    .dataframe tbody tr th {\n",
       "        vertical-align: top;\n",
       "    }\n",
       "\n",
       "    .dataframe thead th {\n",
       "        text-align: right;\n",
       "    }\n",
       "</style>\n",
       "<table border=\"1\" class=\"dataframe\">\n",
       "  <thead>\n",
       "    <tr style=\"text-align: right;\">\n",
       "      <th></th>\n",
       "      <th>User_ID</th>\n",
       "      <th>Gender</th>\n",
       "      <th>Purchase</th>\n",
       "    </tr>\n",
       "  </thead>\n",
       "  <tbody>\n",
       "    <tr>\n",
       "      <th>0</th>\n",
       "      <td>1000001</td>\n",
       "      <td>F</td>\n",
       "      <td>334093</td>\n",
       "    </tr>\n",
       "    <tr>\n",
       "      <th>3</th>\n",
       "      <td>1000002</td>\n",
       "      <td>M</td>\n",
       "      <td>810472</td>\n",
       "    </tr>\n",
       "    <tr>\n",
       "      <th>5</th>\n",
       "      <td>1000003</td>\n",
       "      <td>M</td>\n",
       "      <td>341635</td>\n",
       "    </tr>\n",
       "    <tr>\n",
       "      <th>7</th>\n",
       "      <td>1000004</td>\n",
       "      <td>M</td>\n",
       "      <td>206468</td>\n",
       "    </tr>\n",
       "    <tr>\n",
       "      <th>9</th>\n",
       "      <td>1000005</td>\n",
       "      <td>M</td>\n",
       "      <td>821001</td>\n",
       "    </tr>\n",
       "    <tr>\n",
       "      <th>...</th>\n",
       "      <td>...</td>\n",
       "      <td>...</td>\n",
       "      <td>...</td>\n",
       "    </tr>\n",
       "    <tr>\n",
       "      <th>11772</th>\n",
       "      <td>1006036</td>\n",
       "      <td>F</td>\n",
       "      <td>4116058</td>\n",
       "    </tr>\n",
       "    <tr>\n",
       "      <th>11774</th>\n",
       "      <td>1006037</td>\n",
       "      <td>F</td>\n",
       "      <td>1119538</td>\n",
       "    </tr>\n",
       "    <tr>\n",
       "      <th>11776</th>\n",
       "      <td>1006038</td>\n",
       "      <td>F</td>\n",
       "      <td>90034</td>\n",
       "    </tr>\n",
       "    <tr>\n",
       "      <th>11778</th>\n",
       "      <td>1006039</td>\n",
       "      <td>F</td>\n",
       "      <td>590319</td>\n",
       "    </tr>\n",
       "    <tr>\n",
       "      <th>11781</th>\n",
       "      <td>1006040</td>\n",
       "      <td>M</td>\n",
       "      <td>1653299</td>\n",
       "    </tr>\n",
       "  </tbody>\n",
       "</table>\n",
       "<p>5891 rows × 3 columns</p>\n",
       "</div>"
      ],
      "text/plain": [
       "       User_ID Gender  Purchase\n",
       "0      1000001      F    334093\n",
       "3      1000002      M    810472\n",
       "5      1000003      M    341635\n",
       "7      1000004      M    206468\n",
       "9      1000005      M    821001\n",
       "...        ...    ...       ...\n",
       "11772  1006036      F   4116058\n",
       "11774  1006037      F   1119538\n",
       "11776  1006038      F     90034\n",
       "11778  1006039      F    590319\n",
       "11781  1006040      M   1653299\n",
       "\n",
       "[5891 rows x 3 columns]"
      ]
     },
     "execution_count": 72,
     "metadata": {},
     "output_type": "execute_result"
    }
   ],
   "source": [
    "a=df.groupby(['User_ID','Gender'])['Purchase'].sum().reset_index()\n",
    "a=a[a['Purchase']!=0]\n",
    "a"
   ]
  },
  {
   "cell_type": "code",
   "execution_count": 74,
   "id": "38fd9f5b",
   "metadata": {},
   "outputs": [
    {
     "data": {
      "text/plain": [
       "712024.3949579832"
      ]
     },
     "execution_count": 74,
     "metadata": {},
     "output_type": "execute_result"
    }
   ],
   "source": [
    "a[a['Gender']=='F']['Purchase'].mean()"
   ]
  },
  {
   "cell_type": "code",
   "execution_count": 63,
   "id": "ffb2a68e",
   "metadata": {},
   "outputs": [
    {
     "data": {
      "text/plain": [
       "925344.4023668639"
      ]
     },
     "execution_count": 63,
     "metadata": {},
     "output_type": "execute_result"
    }
   ],
   "source": [
    "a[a['Gender']=='M']['Purchase'].mean()"
   ]
  },
  {
   "cell_type": "markdown",
   "id": "d3295a4b",
   "metadata": {},
   "source": [
    "### There is a difference of about 0.2 Million Dollars in the average spending of men vs women."
   ]
  },
  {
   "cell_type": "markdown",
   "id": "e287ca80",
   "metadata": {},
   "source": [
    "### 5. Purchase vs Marital Status"
   ]
  },
  {
   "cell_type": "code",
   "execution_count": 75,
   "id": "6a5c816a",
   "metadata": {},
   "outputs": [
    {
     "data": {
      "text/plain": [
       "<AxesSubplot:xlabel='Marital_Status', ylabel='Purchase'>"
      ]
     },
     "execution_count": 75,
     "metadata": {},
     "output_type": "execute_result"
    },
    {
     "data": {
      "image/png": "[encoded data removed]",
      "text/plain": [
       "<Figure size 432x288 with 1 Axes>"
      ]
     },
     "metadata": {
      "needs_background": "light"
     },
     "output_type": "display_data"
    }
   ],
   "source": [
    "sns.barplot(data=df,x=df['Marital_Status'],y=df['Purchase'])"
   ]
  },
  {
   "cell_type": "markdown",
   "id": "21ce2b83",
   "metadata": {},
   "source": [
    "### The total Purchase amount is almost the same for both married and single customers"
   ]
  },
  {
   "cell_type": "markdown",
   "id": "c5bdb564",
   "metadata": {},
   "source": [
    "### 6. Purchase vs City Category"
   ]
  },
  {
   "cell_type": "code",
   "execution_count": 76,
   "id": "80142c97",
   "metadata": {},
   "outputs": [
    {
     "data": {
      "text/plain": [
       "<AxesSubplot:xlabel='City_Category', ylabel='Purchase'>"
      ]
     },
     "execution_count": 76,
     "metadata": {},
     "output_type": "execute_result"
    },
    {
     "data": {
      "image/png": "[encoded data removed]",
      "text/plain": [
       "<Figure size 432x288 with 1 Axes>"
      ]
     },
     "metadata": {
      "needs_background": "light"
     },
     "output_type": "display_data"
    }
   ],
   "source": [
    "sns.barplot(data=df,x=df['City_Category'],y=df['Purchase'])"
   ]
  },
  {
   "cell_type": "markdown",
   "id": "4c518a37",
   "metadata": {},
   "source": [
    "### City Category C has a higher total Purchase amount compared to A and B"
   ]
  },
  {
   "cell_type": "markdown",
   "id": "15ed3369",
   "metadata": {},
   "source": [
    "### 7. Purchase vs Stay In Current City"
   ]
  },
  {
   "cell_type": "code",
   "execution_count": 78,
   "id": "62d6bf6f",
   "metadata": {
    "scrolled": true
   },
   "outputs": [
    {
     "data": {
      "text/plain": [
       "<AxesSubplot:xlabel='Stay_In_Current_City_Years', ylabel='Purchase'>"
      ]
     },
     "execution_count": 78,
     "metadata": {},
     "output_type": "execute_result"
    },
    {
     "data": {
      "image/png": "[encoded data removed]",
      "text/plain": [
       "<Figure size 432x288 with 1 Axes>"
      ]
     },
     "metadata": {
      "needs_background": "light"
     },
     "output_type": "display_data"
    }
   ],
   "source": [
    "sns.barplot(data=df,y=df['Purchase'],x=df['Stay_In_Current_City_Years'])"
   ]
  },
  {
   "cell_type": "markdown",
   "id": "26edfe87",
   "metadata": {},
   "source": [
    "### The total Purchase amount is almost equally split across various categories of number of years of stay in the city"
   ]
  },
  {
   "cell_type": "markdown",
   "id": "4a9504d8",
   "metadata": {},
   "source": [
    "### 8. Purchase vs Occupation"
   ]
  },
  {
   "cell_type": "code",
   "execution_count": 79,
   "id": "7811ca30",
   "metadata": {},
   "outputs": [
    {
     "data": {
      "text/plain": [
       "<AxesSubplot:xlabel='Occupation', ylabel='Purchase'>"
      ]
     },
     "execution_count": 79,
     "metadata": {},
     "output_type": "execute_result"
    },
    {
     "data": {
      "image/png": "[encoded data removed]",
      "text/plain": [
       "<Figure size 432x288 with 1 Axes>"
      ]
     },
     "metadata": {
      "needs_background": "light"
     },
     "output_type": "display_data"
    }
   ],
   "source": [
    "sns.barplot(data=df,y=df['Purchase'],x=df['Occupation'])"
   ]
  },
  {
   "cell_type": "markdown",
   "id": "3092e20a",
   "metadata": {},
   "source": [
    "### The purchase amount is observed to be slightly higher in Occupation categories 12, 15 and 17"
   ]
  },
  {
   "cell_type": "markdown",
   "id": "2aa29ce5",
   "metadata": {},
   "source": [
    "### 9. Purchase vs Product Category"
   ]
  },
  {
   "cell_type": "code",
   "execution_count": 80,
   "id": "50b03637",
   "metadata": {},
   "outputs": [
    {
     "data": {
      "text/plain": [
       "<AxesSubplot:xlabel='Product_Category', ylabel='Purchase'>"
      ]
     },
     "execution_count": 80,
     "metadata": {},
     "output_type": "execute_result"
    },
    {
     "data": {
      "image/png": "[encoded data removed]",
      "text/plain": [
       "<Figure size 432x288 with 1 Axes>"
      ]
     },
     "metadata": {
      "needs_background": "light"
     },
     "output_type": "display_data"
    }
   ],
   "source": [
    "sns.barplot(data=df,y=df['Purchase'],x=df['Product_Category'])"
   ]
  },
  {
   "cell_type": "markdown",
   "id": "78aff3e7",
   "metadata": {},
   "source": [
    "### Product Category 10 has the highest total purchase amount followed by 7 and 6. Categories like 19, 20 and 13 have the lowest total purchase values"
   ]
  },
  {
   "cell_type": "markdown",
   "id": "e2782e1e",
   "metadata": {},
   "source": [
    "### 2. Missing Value and Outlier Detection"
   ]
  },
  {
   "cell_type": "code",
   "execution_count": null,
   "id": "f5294802",
   "metadata": {},
   "outputs": [],
   "source": [
    "df.isnull().sum()"
   ]
  },
  {
   "cell_type": "markdown",
   "id": "e045a168",
   "metadata": {},
   "source": [
    "### There are no missing values in any columns of the dataset"
   ]
  },
  {
   "cell_type": "code",
   "execution_count": null,
   "id": "905bd20f",
   "metadata": {},
   "outputs": [],
   "source": [
    "df.describe()"
   ]
  },
  {
   "cell_type": "code",
   "execution_count": 82,
   "id": "14e6bf64",
   "metadata": {},
   "outputs": [
    {
     "data": {
      "text/html": [
       "<div>\n",
       "<style scoped>\n",
       "    .dataframe tbody tr th:only-of-type {\n",
       "        vertical-align: middle;\n",
       "    }\n",
       "\n",
       "    .dataframe tbody tr th {\n",
       "        vertical-align: top;\n",
       "    }\n",
       "\n",
       "    .dataframe thead th {\n",
       "        text-align: right;\n",
       "    }\n",
       "</style>\n",
       "<table border=\"1\" class=\"dataframe\">\n",
       "  <thead>\n",
       "    <tr style=\"text-align: right;\">\n",
       "      <th></th>\n",
       "      <th>User_ID</th>\n",
       "      <th>Purchase</th>\n",
       "    </tr>\n",
       "  </thead>\n",
       "  <tbody>\n",
       "    <tr>\n",
       "      <th>0</th>\n",
       "      <td>1000001</td>\n",
       "      <td>334093</td>\n",
       "    </tr>\n",
       "    <tr>\n",
       "      <th>1</th>\n",
       "      <td>1000002</td>\n",
       "      <td>810472</td>\n",
       "    </tr>\n",
       "    <tr>\n",
       "      <th>2</th>\n",
       "      <td>1000003</td>\n",
       "      <td>341635</td>\n",
       "    </tr>\n",
       "    <tr>\n",
       "      <th>3</th>\n",
       "      <td>1000004</td>\n",
       "      <td>206468</td>\n",
       "    </tr>\n",
       "    <tr>\n",
       "      <th>4</th>\n",
       "      <td>1000005</td>\n",
       "      <td>821001</td>\n",
       "    </tr>\n",
       "    <tr>\n",
       "      <th>...</th>\n",
       "      <td>...</td>\n",
       "      <td>...</td>\n",
       "    </tr>\n",
       "    <tr>\n",
       "      <th>5886</th>\n",
       "      <td>1006036</td>\n",
       "      <td>4116058</td>\n",
       "    </tr>\n",
       "    <tr>\n",
       "      <th>5887</th>\n",
       "      <td>1006037</td>\n",
       "      <td>1119538</td>\n",
       "    </tr>\n",
       "    <tr>\n",
       "      <th>5888</th>\n",
       "      <td>1006038</td>\n",
       "      <td>90034</td>\n",
       "    </tr>\n",
       "    <tr>\n",
       "      <th>5889</th>\n",
       "      <td>1006039</td>\n",
       "      <td>590319</td>\n",
       "    </tr>\n",
       "    <tr>\n",
       "      <th>5890</th>\n",
       "      <td>1006040</td>\n",
       "      <td>1653299</td>\n",
       "    </tr>\n",
       "  </tbody>\n",
       "</table>\n",
       "<p>5891 rows × 2 columns</p>\n",
       "</div>"
      ],
      "text/plain": [
       "      User_ID  Purchase\n",
       "0     1000001    334093\n",
       "1     1000002    810472\n",
       "2     1000003    341635\n",
       "3     1000004    206468\n",
       "4     1000005    821001\n",
       "...       ...       ...\n",
       "5886  1006036   4116058\n",
       "5887  1006037   1119538\n",
       "5888  1006038     90034\n",
       "5889  1006039    590319\n",
       "5890  1006040   1653299\n",
       "\n",
       "[5891 rows x 2 columns]"
      ]
     },
     "execution_count": 82,
     "metadata": {},
     "output_type": "execute_result"
    }
   ],
   "source": [
    "# Visualize outliers using statistical methods \n",
    "# Purchase Column\n",
    "a=df.groupby('User_ID')['Purchase'].sum().reset_index()\n",
    "a"
   ]
  },
  {
   "cell_type": "code",
   "execution_count": 83,
   "id": "eee98c3c",
   "metadata": {},
   "outputs": [
    {
     "data": {
      "text/plain": [
       "Text(0.5, 1.0, 'Distribution of Purchase')"
      ]
     },
     "execution_count": 83,
     "metadata": {},
     "output_type": "execute_result"
    },
    {
     "data": {
      "image/png": "[encoded data removed]",
      "text/plain": [
       "<Figure size 432x288 with 1 Axes>"
      ]
     },
     "metadata": {
      "needs_background": "light"
     },
     "output_type": "display_data"
    }
   ],
   "source": [
    "sns.boxplot(data=a,x=a[\"Purchase\"])\n",
    "plt.title('Distribution of Purchase')"
   ]
  },
  {
   "cell_type": "code",
   "execution_count": 85,
   "id": "f084b093",
   "metadata": {},
   "outputs": [
    {
     "data": {
      "text/plain": [
       "2788504    1\n",
       "2512923    1\n",
       "2808359    1\n",
       "2772580    1\n",
       "3105976    1\n",
       "          ..\n",
       "2608735    1\n",
       "3212202    1\n",
       "2445649    1\n",
       "4358776    1\n",
       "4116058    1\n",
       "Name: Purchase, Length: 409, dtype: int64"
      ]
     },
     "execution_count": 85,
     "metadata": {},
     "output_type": "execute_result"
    }
   ],
   "source": [
    "# Detect outlier values using statistical methods\n",
    "q1=np.percentile(a[\"Purchase\"],25)\n",
    "q2=np.percentile(a[\"Purchase\"],75)\n",
    "IQR=q2-q1\n",
    "outliers =a[(a[\"Purchase\"]<(q1-1.5*IQR)) | (a[\"Purchase\"]>(q2 + 1.5*IQR))][\"Purchase\"]\n",
    "outliers.value_counts()"
   ]
  },
  {
   "cell_type": "code",
   "execution_count": 86,
   "id": "0a89c2be",
   "metadata": {},
   "outputs": [
    {
     "data": {
      "text/plain": [
       "409"
      ]
     },
     "execution_count": 86,
     "metadata": {},
     "output_type": "execute_result"
    }
   ],
   "source": [
    "outliers.value_counts().sum()"
   ]
  },
  {
   "cell_type": "markdown",
   "id": "af7d7c1e",
   "metadata": {},
   "source": [
    "### There are 409 outlier values in the Purchase column"
   ]
  },
  {
   "cell_type": "markdown",
   "id": "10781586",
   "metadata": {},
   "source": [
    "### 3.\tBusiness Insights based on Non- Graphical and Visual Analysis "
   ]
  },
  {
   "cell_type": "markdown",
   "id": "5542d05a",
   "metadata": {},
   "source": [
    "### 1. The dataset includes Male and Female customers, both Married and Single\n",
    "### 2. There are 5891 unique customers in the dataset and 3631 unique products\n",
    "### 3. The dataset includes 72% Males and 28% Females\n",
    "### 4. 58% of the customers are single and 42% are married (Assuming 0 is Single and 1 is Married)\n",
    "### 5. Nearly 35% of the customers are in the age group of 26-35. 75% of the customers are in the age groups of 18 to 45.\n",
    "### 6. 53% of the customers are from City category C followed by 29% from B and 18% from A\n",
    "### 7. 35% of the customers have been staying in the current city for 1 year. The remaining customers are almost equally distributed among the other categories\n",
    "### 8. The top 3 Occupation categories are 4 ,0 and 7\n",
    "### 9. The top 3 most sold product categories are 1, 5 and 8\n",
    "### 10. The median value of purchase per user is 521213 Dollars.\n",
    "### 11. Both Female and Male customers belong mostly to the 26-35 age group, followed by 36-45 and 18-25 groups.\n",
    "### 12. Both Female and Male categories have more number of single than married customers\n",
    "### 13. Both Female and Male categories have majority in City Category C followed by B and then A\n",
    "### 14. Males have purchased for a higher amount than females. \n",
    "### 15. There is a difference of about 0.2 Million Dollars in the average spending of men vs women.\n",
    "### 16. The total Purchase amount is almost the same for both married and single customers\n",
    "### 17. City Category C has a higher total Purchase amount compared to A and B\n",
    "### 18. The total Purchase amount is almost equally split across various categories of number of years of stay in the city\n",
    "### 19. The purchase amount is observed to be slightly higher in Occupation categories 12, 15 and 17\n",
    "### 20. Product Category 10 has the highest total purchase amount followed by 7 and 6. Categories like 19, 20 and 13 have the lowest total purchase values. Categories 5 and 8 have higher number of purchases but their contribution to total purchase amount is less. They seem to be the products that are popular and with lower MRP.\n",
    "\n"
   ]
  },
  {
   "cell_type": "markdown",
   "id": "0bbe6e0d",
   "metadata": {},
   "source": [
    "### 4. Answering Questions"
   ]
  },
  {
   "cell_type": "markdown",
   "id": "30969458",
   "metadata": {},
   "source": [
    "### 1.\tAre women spending more money per transaction than men?"
   ]
  },
  {
   "cell_type": "code",
   "execution_count": 99,
   "id": "455ba35d",
   "metadata": {},
   "outputs": [
    {
     "data": {
      "text/html": [
       "<div>\n",
       "<style scoped>\n",
       "    .dataframe tbody tr th:only-of-type {\n",
       "        vertical-align: middle;\n",
       "    }\n",
       "\n",
       "    .dataframe tbody tr th {\n",
       "        vertical-align: top;\n",
       "    }\n",
       "\n",
       "    .dataframe thead th {\n",
       "        text-align: right;\n",
       "    }\n",
       "</style>\n",
       "<table border=\"1\" class=\"dataframe\">\n",
       "  <thead>\n",
       "    <tr style=\"text-align: right;\">\n",
       "      <th></th>\n",
       "      <th>User_ID</th>\n",
       "      <th>Gender</th>\n",
       "      <th>Purchase</th>\n",
       "    </tr>\n",
       "  </thead>\n",
       "  <tbody>\n",
       "    <tr>\n",
       "      <th>0</th>\n",
       "      <td>1000001</td>\n",
       "      <td>F</td>\n",
       "      <td>334093</td>\n",
       "    </tr>\n",
       "    <tr>\n",
       "      <th>3</th>\n",
       "      <td>1000002</td>\n",
       "      <td>M</td>\n",
       "      <td>810472</td>\n",
       "    </tr>\n",
       "    <tr>\n",
       "      <th>5</th>\n",
       "      <td>1000003</td>\n",
       "      <td>M</td>\n",
       "      <td>341635</td>\n",
       "    </tr>\n",
       "    <tr>\n",
       "      <th>7</th>\n",
       "      <td>1000004</td>\n",
       "      <td>M</td>\n",
       "      <td>206468</td>\n",
       "    </tr>\n",
       "    <tr>\n",
       "      <th>9</th>\n",
       "      <td>1000005</td>\n",
       "      <td>M</td>\n",
       "      <td>821001</td>\n",
       "    </tr>\n",
       "    <tr>\n",
       "      <th>...</th>\n",
       "      <td>...</td>\n",
       "      <td>...</td>\n",
       "      <td>...</td>\n",
       "    </tr>\n",
       "    <tr>\n",
       "      <th>11772</th>\n",
       "      <td>1006036</td>\n",
       "      <td>F</td>\n",
       "      <td>4116058</td>\n",
       "    </tr>\n",
       "    <tr>\n",
       "      <th>11774</th>\n",
       "      <td>1006037</td>\n",
       "      <td>F</td>\n",
       "      <td>1119538</td>\n",
       "    </tr>\n",
       "    <tr>\n",
       "      <th>11776</th>\n",
       "      <td>1006038</td>\n",
       "      <td>F</td>\n",
       "      <td>90034</td>\n",
       "    </tr>\n",
       "    <tr>\n",
       "      <th>11778</th>\n",
       "      <td>1006039</td>\n",
       "      <td>F</td>\n",
       "      <td>590319</td>\n",
       "    </tr>\n",
       "    <tr>\n",
       "      <th>11781</th>\n",
       "      <td>1006040</td>\n",
       "      <td>M</td>\n",
       "      <td>1653299</td>\n",
       "    </tr>\n",
       "  </tbody>\n",
       "</table>\n",
       "<p>5891 rows × 3 columns</p>\n",
       "</div>"
      ],
      "text/plain": [
       "       User_ID Gender  Purchase\n",
       "0      1000001      F    334093\n",
       "3      1000002      M    810472\n",
       "5      1000003      M    341635\n",
       "7      1000004      M    206468\n",
       "9      1000005      M    821001\n",
       "...        ...    ...       ...\n",
       "11772  1006036      F   4116058\n",
       "11774  1006037      F   1119538\n",
       "11776  1006038      F     90034\n",
       "11778  1006039      F    590319\n",
       "11781  1006040      M   1653299\n",
       "\n",
       "[5891 rows x 3 columns]"
      ]
     },
     "execution_count": 99,
     "metadata": {},
     "output_type": "execute_result"
    }
   ],
   "source": [
    "# Calculating total purchase per user id\n",
    "df_gender=df.groupby(['User_ID','Gender'])['Purchase'].sum().reset_index()\n",
    "df_gender=df_gender[df_gender['Purchase']!=0]\n",
    "df_gender"
   ]
  },
  {
   "cell_type": "code",
   "execution_count": 100,
   "id": "b3e2ec59",
   "metadata": {},
   "outputs": [
    {
     "data": {
      "text/plain": [
       "712024.3949579832"
      ]
     },
     "execution_count": 100,
     "metadata": {},
     "output_type": "execute_result"
    }
   ],
   "source": [
    "mean_women=df_gender[df_gender['Gender']=='F']['Purchase'].mean()\n",
    "mean_women"
   ]
  },
  {
   "cell_type": "code",
   "execution_count": 101,
   "id": "8d766e9d",
   "metadata": {},
   "outputs": [
    {
     "data": {
      "text/plain": [
       "925344.4023668639"
      ]
     },
     "execution_count": 101,
     "metadata": {},
     "output_type": "execute_result"
    }
   ],
   "source": [
    "mean_men=df_gender[df_gender['Gender']=='M']['Purchase'].mean()\n",
    "mean_men"
   ]
  },
  {
   "cell_type": "code",
   "execution_count": 102,
   "id": "24fb426f",
   "metadata": {},
   "outputs": [
    {
     "data": {
      "text/plain": [
       "213320.00740888075"
      ]
     },
     "execution_count": 102,
     "metadata": {},
     "output_type": "execute_result"
    }
   ],
   "source": [
    "mean_men-mean_women"
   ]
  },
  {
   "cell_type": "markdown",
   "id": "121345fa",
   "metadata": {},
   "source": [
    "### The mean purchase amount is more for men than women by 0.2 Million Dollars.  "
   ]
  },
  {
   "cell_type": "markdown",
   "id": "c90dda2c",
   "metadata": {},
   "source": [
    "### 2.\tConfidence intervals and distribution of the mean of the expenses by female and male customers "
   ]
  },
  {
   "cell_type": "code",
   "execution_count": 103,
   "id": "b6515382",
   "metadata": {},
   "outputs": [
    {
     "data": {
      "text/plain": [
       "M    4225\n",
       "F    1666\n",
       "Name: Gender, dtype: int64"
      ]
     },
     "execution_count": 103,
     "metadata": {},
     "output_type": "execute_result"
    }
   ],
   "source": [
    "# Finding total number of males and females in the dataset\n",
    "df_gender['Gender'].value_counts()"
   ]
  },
  {
   "cell_type": "markdown",
   "id": "0f779f73",
   "metadata": {},
   "source": [
    "#### Considering the total number of men and women,  sample sizes of 200, 400 and 700 are being considered for observation"
   ]
  },
  {
   "cell_type": "markdown",
   "id": "1506d926",
   "metadata": {},
   "source": [
    "### Bootstrapping with Sample size = 200"
   ]
  },
  {
   "cell_type": "markdown",
   "id": "dccefa61",
   "metadata": {},
   "source": [
    "#### Female"
   ]
  },
  {
   "cell_type": "code",
   "execution_count": 113,
   "id": "08f87268",
   "metadata": {},
   "outputs": [
    {
     "data": {
      "text/html": [
       "<div>\n",
       "<style scoped>\n",
       "    .dataframe tbody tr th:only-of-type {\n",
       "        vertical-align: middle;\n",
       "    }\n",
       "\n",
       "    .dataframe tbody tr th {\n",
       "        vertical-align: top;\n",
       "    }\n",
       "\n",
       "    .dataframe thead th {\n",
       "        text-align: right;\n",
       "    }\n",
       "</style>\n",
       "<table border=\"1\" class=\"dataframe\">\n",
       "  <thead>\n",
       "    <tr style=\"text-align: right;\">\n",
       "      <th></th>\n",
       "      <th>User_ID</th>\n",
       "      <th>Gender</th>\n",
       "      <th>Purchase</th>\n",
       "    </tr>\n",
       "  </thead>\n",
       "  <tbody>\n",
       "    <tr>\n",
       "      <th>0</th>\n",
       "      <td>1000001</td>\n",
       "      <td>F</td>\n",
       "      <td>334093</td>\n",
       "    </tr>\n",
       "    <tr>\n",
       "      <th>10</th>\n",
       "      <td>1000006</td>\n",
       "      <td>F</td>\n",
       "      <td>379930</td>\n",
       "    </tr>\n",
       "    <tr>\n",
       "      <th>18</th>\n",
       "      <td>1000010</td>\n",
       "      <td>F</td>\n",
       "      <td>2169510</td>\n",
       "    </tr>\n",
       "    <tr>\n",
       "      <th>20</th>\n",
       "      <td>1000011</td>\n",
       "      <td>F</td>\n",
       "      <td>557023</td>\n",
       "    </tr>\n",
       "    <tr>\n",
       "      <th>30</th>\n",
       "      <td>1000016</td>\n",
       "      <td>F</td>\n",
       "      <td>150490</td>\n",
       "    </tr>\n",
       "    <tr>\n",
       "      <th>...</th>\n",
       "      <td>...</td>\n",
       "      <td>...</td>\n",
       "      <td>...</td>\n",
       "    </tr>\n",
       "    <tr>\n",
       "      <th>11770</th>\n",
       "      <td>1006035</td>\n",
       "      <td>F</td>\n",
       "      <td>956645</td>\n",
       "    </tr>\n",
       "    <tr>\n",
       "      <th>11772</th>\n",
       "      <td>1006036</td>\n",
       "      <td>F</td>\n",
       "      <td>4116058</td>\n",
       "    </tr>\n",
       "    <tr>\n",
       "      <th>11774</th>\n",
       "      <td>1006037</td>\n",
       "      <td>F</td>\n",
       "      <td>1119538</td>\n",
       "    </tr>\n",
       "    <tr>\n",
       "      <th>11776</th>\n",
       "      <td>1006038</td>\n",
       "      <td>F</td>\n",
       "      <td>90034</td>\n",
       "    </tr>\n",
       "    <tr>\n",
       "      <th>11778</th>\n",
       "      <td>1006039</td>\n",
       "      <td>F</td>\n",
       "      <td>590319</td>\n",
       "    </tr>\n",
       "  </tbody>\n",
       "</table>\n",
       "<p>1666 rows × 3 columns</p>\n",
       "</div>"
      ],
      "text/plain": [
       "       User_ID Gender  Purchase\n",
       "0      1000001      F    334093\n",
       "10     1000006      F    379930\n",
       "18     1000010      F   2169510\n",
       "20     1000011      F    557023\n",
       "30     1000016      F    150490\n",
       "...        ...    ...       ...\n",
       "11770  1006035      F    956645\n",
       "11772  1006036      F   4116058\n",
       "11774  1006037      F   1119538\n",
       "11776  1006038      F     90034\n",
       "11778  1006039      F    590319\n",
       "\n",
       "[1666 rows x 3 columns]"
      ]
     },
     "execution_count": 113,
     "metadata": {},
     "output_type": "execute_result"
    }
   ],
   "source": [
    "# Dataframe with data for Females\n",
    "df_female=df_gender[df_gender['Gender']=='F']\n",
    "df_female"
   ]
  },
  {
   "cell_type": "code",
   "execution_count": 119,
   "id": "aa175649",
   "metadata": {},
   "outputs": [],
   "source": [
    "# Initiating an empty list to store mean values of each sample\n",
    "bootstrapped_mean_female=[]\n",
    "n = 200\n",
    "for i in range(10000):\n",
    "    samples=np.random.choice(df_female['Purchase'],size=n)\n",
    "    sample_mean=np.mean(samples)\n",
    "    bootstrapped_mean_female.append(sample_mean)"
   ]
  },
  {
   "cell_type": "code",
   "execution_count": 120,
   "id": "d58897a7",
   "metadata": {},
   "outputs": [
    {
     "data": {
      "text/plain": [
       "Text(0.5, 1.0, 'Sampling distribution of mean_Female')"
      ]
     },
     "execution_count": 120,
     "metadata": {},
     "output_type": "execute_result"
    },
    {
     "data": {
      "image/png": "[encoded data removed]",
      "text/plain": [
       "<Figure size 432x288 with 1 Axes>"
      ]
     },
     "metadata": {
      "needs_background": "light"
     },
     "output_type": "display_data"
    }
   ],
   "source": [
    "sns.histplot(bootstrapped_mean_female)\n",
    "plt.title('Sampling distribution of mean_Female')"
   ]
  },
  {
   "cell_type": "markdown",
   "id": "4b21f1d8",
   "metadata": {},
   "source": [
    "#### Male"
   ]
  },
  {
   "cell_type": "code",
   "execution_count": 116,
   "id": "57d88e83",
   "metadata": {},
   "outputs": [
    {
     "data": {
      "text/html": [
       "<div>\n",
       "<style scoped>\n",
       "    .dataframe tbody tr th:only-of-type {\n",
       "        vertical-align: middle;\n",
       "    }\n",
       "\n",
       "    .dataframe tbody tr th {\n",
       "        vertical-align: top;\n",
       "    }\n",
       "\n",
       "    .dataframe thead th {\n",
       "        text-align: right;\n",
       "    }\n",
       "</style>\n",
       "<table border=\"1\" class=\"dataframe\">\n",
       "  <thead>\n",
       "    <tr style=\"text-align: right;\">\n",
       "      <th></th>\n",
       "      <th>User_ID</th>\n",
       "      <th>Gender</th>\n",
       "      <th>Purchase</th>\n",
       "    </tr>\n",
       "  </thead>\n",
       "  <tbody>\n",
       "    <tr>\n",
       "      <th>3</th>\n",
       "      <td>1000002</td>\n",
       "      <td>M</td>\n",
       "      <td>810472</td>\n",
       "    </tr>\n",
       "    <tr>\n",
       "      <th>5</th>\n",
       "      <td>1000003</td>\n",
       "      <td>M</td>\n",
       "      <td>341635</td>\n",
       "    </tr>\n",
       "    <tr>\n",
       "      <th>7</th>\n",
       "      <td>1000004</td>\n",
       "      <td>M</td>\n",
       "      <td>206468</td>\n",
       "    </tr>\n",
       "    <tr>\n",
       "      <th>9</th>\n",
       "      <td>1000005</td>\n",
       "      <td>M</td>\n",
       "      <td>821001</td>\n",
       "    </tr>\n",
       "    <tr>\n",
       "      <th>13</th>\n",
       "      <td>1000007</td>\n",
       "      <td>M</td>\n",
       "      <td>234668</td>\n",
       "    </tr>\n",
       "    <tr>\n",
       "      <th>...</th>\n",
       "      <td>...</td>\n",
       "      <td>...</td>\n",
       "      <td>...</td>\n",
       "    </tr>\n",
       "    <tr>\n",
       "      <th>11761</th>\n",
       "      <td>1006030</td>\n",
       "      <td>M</td>\n",
       "      <td>737361</td>\n",
       "    </tr>\n",
       "    <tr>\n",
       "      <th>11765</th>\n",
       "      <td>1006032</td>\n",
       "      <td>M</td>\n",
       "      <td>517261</td>\n",
       "    </tr>\n",
       "    <tr>\n",
       "      <th>11767</th>\n",
       "      <td>1006033</td>\n",
       "      <td>M</td>\n",
       "      <td>501843</td>\n",
       "    </tr>\n",
       "    <tr>\n",
       "      <th>11769</th>\n",
       "      <td>1006034</td>\n",
       "      <td>M</td>\n",
       "      <td>197086</td>\n",
       "    </tr>\n",
       "    <tr>\n",
       "      <th>11781</th>\n",
       "      <td>1006040</td>\n",
       "      <td>M</td>\n",
       "      <td>1653299</td>\n",
       "    </tr>\n",
       "  </tbody>\n",
       "</table>\n",
       "<p>4225 rows × 3 columns</p>\n",
       "</div>"
      ],
      "text/plain": [
       "       User_ID Gender  Purchase\n",
       "3      1000002      M    810472\n",
       "5      1000003      M    341635\n",
       "7      1000004      M    206468\n",
       "9      1000005      M    821001\n",
       "13     1000007      M    234668\n",
       "...        ...    ...       ...\n",
       "11761  1006030      M    737361\n",
       "11765  1006032      M    517261\n",
       "11767  1006033      M    501843\n",
       "11769  1006034      M    197086\n",
       "11781  1006040      M   1653299\n",
       "\n",
       "[4225 rows x 3 columns]"
      ]
     },
     "execution_count": 116,
     "metadata": {},
     "output_type": "execute_result"
    }
   ],
   "source": [
    "# Dataframe with data for Males\n",
    "df_male=df_gender[df_gender['Gender']=='M']\n",
    "df_male"
   ]
  },
  {
   "cell_type": "code",
   "execution_count": 121,
   "id": "bc0ba345",
   "metadata": {},
   "outputs": [],
   "source": [
    "# Initiating an empty list to store mean values of each sample\n",
    "bootstrapped_mean_male=[]\n",
    "n = 200\n",
    "for i in range(10000):\n",
    "    samples=np.random.choice(df_male['Purchase'],size=n)\n",
    "    sample_mean=np.mean(samples)\n",
    "    bootstrapped_mean_male.append(sample_mean)"
   ]
  },
  {
   "cell_type": "code",
   "execution_count": 122,
   "id": "d3271cb2",
   "metadata": {},
   "outputs": [
    {
     "data": {
      "text/plain": [
       "Text(0.5, 1.0, 'Sampling distribution of mean_Male')"
      ]
     },
     "execution_count": 122,
     "metadata": {},
     "output_type": "execute_result"
    },
    {
     "data": {
      "image/png": "[encoded data removed]",
      "text/plain": [
       "<Figure size 432x288 with 1 Axes>"
      ]
     },
     "metadata": {
      "needs_background": "light"
     },
     "output_type": "display_data"
    }
   ],
   "source": [
    "sns.histplot(bootstrapped_mean_male)\n",
    "plt.title('Sampling distribution of mean_Male')"
   ]
  },
  {
   "cell_type": "markdown",
   "id": "5149ecec",
   "metadata": {},
   "source": [
    "### Bootstrapping with Sample size = 1000"
   ]
  },
  {
   "cell_type": "markdown",
   "id": "e4fbcad4",
   "metadata": {},
   "source": [
    "#### Single"
   ]
  },
  {
   "cell_type": "code",
   "execution_count": 104,
   "id": "f105c505",
   "metadata": {},
   "outputs": [
    {
     "data": {
      "text/html": [
       "<div>\n",
       "<style scoped>\n",
       "    .dataframe tbody tr th:only-of-type {\n",
       "        vertical-align: middle;\n",
       "    }\n",
       "\n",
       "    .dataframe tbody tr th {\n",
       "        vertical-align: top;\n",
       "    }\n",
       "\n",
       "    .dataframe thead th {\n",
       "        text-align: right;\n",
       "    }\n",
       "</style>\n",
       "<table border=\"1\" class=\"dataframe\">\n",
       "  <thead>\n",
       "    <tr style=\"text-align: right;\">\n",
       "      <th></th>\n",
       "      <th>User_ID</th>\n",
       "      <th>Gender</th>\n",
       "      <th>Purchase</th>\n",
       "    </tr>\n",
       "  </thead>\n",
       "  <tbody>\n",
       "    <tr>\n",
       "      <th>0</th>\n",
       "      <td>1000001</td>\n",
       "      <td>F</td>\n",
       "      <td>334093</td>\n",
       "    </tr>\n",
       "    <tr>\n",
       "      <th>10</th>\n",
       "      <td>1000006</td>\n",
       "      <td>F</td>\n",
       "      <td>379930</td>\n",
       "    </tr>\n",
       "    <tr>\n",
       "      <th>18</th>\n",
       "      <td>1000010</td>\n",
       "      <td>F</td>\n",
       "      <td>2169510</td>\n",
       "    </tr>\n",
       "    <tr>\n",
       "      <th>20</th>\n",
       "      <td>1000011</td>\n",
       "      <td>F</td>\n",
       "      <td>557023</td>\n",
       "    </tr>\n",
       "    <tr>\n",
       "      <th>30</th>\n",
       "      <td>1000016</td>\n",
       "      <td>F</td>\n",
       "      <td>150490</td>\n",
       "    </tr>\n",
       "    <tr>\n",
       "      <th>...</th>\n",
       "      <td>...</td>\n",
       "      <td>...</td>\n",
       "      <td>...</td>\n",
       "    </tr>\n",
       "    <tr>\n",
       "      <th>11770</th>\n",
       "      <td>1006035</td>\n",
       "      <td>F</td>\n",
       "      <td>956645</td>\n",
       "    </tr>\n",
       "    <tr>\n",
       "      <th>11772</th>\n",
       "      <td>1006036</td>\n",
       "      <td>F</td>\n",
       "      <td>4116058</td>\n",
       "    </tr>\n",
       "    <tr>\n",
       "      <th>11774</th>\n",
       "      <td>1006037</td>\n",
       "      <td>F</td>\n",
       "      <td>1119538</td>\n",
       "    </tr>\n",
       "    <tr>\n",
       "      <th>11776</th>\n",
       "      <td>1006038</td>\n",
       "      <td>F</td>\n",
       "      <td>90034</td>\n",
       "    </tr>\n",
       "    <tr>\n",
       "      <th>11778</th>\n",
       "      <td>1006039</td>\n",
       "      <td>F</td>\n",
       "      <td>590319</td>\n",
       "    </tr>\n",
       "  </tbody>\n",
       "</table>\n",
       "<p>1666 rows × 3 columns</p>\n",
       "</div>"
      ],
      "text/plain": [
       "       User_ID Gender  Purchase\n",
       "0      1000001      F    334093\n",
       "10     1000006      F    379930\n",
       "18     1000010      F   2169510\n",
       "20     1000011      F    557023\n",
       "30     1000016      F    150490\n",
       "...        ...    ...       ...\n",
       "11770  1006035      F    956645\n",
       "11772  1006036      F   4116058\n",
       "11774  1006037      F   1119538\n",
       "11776  1006038      F     90034\n",
       "11778  1006039      F    590319\n",
       "\n",
       "[1666 rows x 3 columns]"
      ]
     },
     "execution_count": 104,
     "metadata": {},
     "output_type": "execute_result"
    }
   ],
   "source": [
    "# Dataframe with data for Females\n",
    "df_female=df_gender[df_gender['Gender']=='F']\n",
    "df_female"
   ]
  },
  {
   "cell_type": "code",
   "execution_count": 107,
   "id": "6e8e3342",
   "metadata": {},
   "outputs": [],
   "source": [
    "# Initiating an empty list to store mean values of each sample\n",
    "bootstrapped_mean_female=[]\n",
    "n = 400\n",
    "for i in range(10000):\n",
    "    samples=np.random.choice(df_female['Purchase'],size=n)\n",
    "    sample_mean=np.mean(samples)\n",
    "    bootstrapped_mean_female.append(sample_mean)"
   ]
  },
  {
   "cell_type": "code",
   "execution_count": 109,
   "id": "edf0c3bf",
   "metadata": {},
   "outputs": [
    {
     "data": {
      "text/plain": [
       "Text(0.5, 1.0, 'Sampling distribution of mean_Female')"
      ]
     },
     "execution_count": 109,
     "metadata": {},
     "output_type": "execute_result"
    },
    {
     "data": {
      "image/png": "[encoded data removed]",
      "text/plain": [
       "<Figure size 432x288 with 1 Axes>"
      ]
     },
     "metadata": {
      "needs_background": "light"
     },
     "output_type": "display_data"
    }
   ],
   "source": [
    "sns.histplot(bootstrapped_mean_female)\n",
    "plt.title('Sampling distribution of mean_Female')"
   ]
  },
  {
   "cell_type": "markdown",
   "id": "5f79b253",
   "metadata": {},
   "source": [
    "#### Male"
   ]
  },
  {
   "cell_type": "code",
   "execution_count": 110,
   "id": "373a46c7",
   "metadata": {},
   "outputs": [
    {
     "data": {
      "text/html": [
       "<div>\n",
       "<style scoped>\n",
       "    .dataframe tbody tr th:only-of-type {\n",
       "        vertical-align: middle;\n",
       "    }\n",
       "\n",
       "    .dataframe tbody tr th {\n",
       "        vertical-align: top;\n",
       "    }\n",
       "\n",
       "    .dataframe thead th {\n",
       "        text-align: right;\n",
       "    }\n",
       "</style>\n",
       "<table border=\"1\" class=\"dataframe\">\n",
       "  <thead>\n",
       "    <tr style=\"text-align: right;\">\n",
       "      <th></th>\n",
       "      <th>User_ID</th>\n",
       "      <th>Gender</th>\n",
       "      <th>Purchase</th>\n",
       "    </tr>\n",
       "  </thead>\n",
       "  <tbody>\n",
       "    <tr>\n",
       "      <th>3</th>\n",
       "      <td>1000002</td>\n",
       "      <td>M</td>\n",
       "      <td>810472</td>\n",
       "    </tr>\n",
       "    <tr>\n",
       "      <th>5</th>\n",
       "      <td>1000003</td>\n",
       "      <td>M</td>\n",
       "      <td>341635</td>\n",
       "    </tr>\n",
       "    <tr>\n",
       "      <th>7</th>\n",
       "      <td>1000004</td>\n",
       "      <td>M</td>\n",
       "      <td>206468</td>\n",
       "    </tr>\n",
       "    <tr>\n",
       "      <th>9</th>\n",
       "      <td>1000005</td>\n",
       "      <td>M</td>\n",
       "      <td>821001</td>\n",
       "    </tr>\n",
       "    <tr>\n",
       "      <th>13</th>\n",
       "      <td>1000007</td>\n",
       "      <td>M</td>\n",
       "      <td>234668</td>\n",
       "    </tr>\n",
       "    <tr>\n",
       "      <th>...</th>\n",
       "      <td>...</td>\n",
       "      <td>...</td>\n",
       "      <td>...</td>\n",
       "    </tr>\n",
       "    <tr>\n",
       "      <th>11761</th>\n",
       "      <td>1006030</td>\n",
       "      <td>M</td>\n",
       "      <td>737361</td>\n",
       "    </tr>\n",
       "    <tr>\n",
       "      <th>11765</th>\n",
       "      <td>1006032</td>\n",
       "      <td>M</td>\n",
       "      <td>517261</td>\n",
       "    </tr>\n",
       "    <tr>\n",
       "      <th>11767</th>\n",
       "      <td>1006033</td>\n",
       "      <td>M</td>\n",
       "      <td>501843</td>\n",
       "    </tr>\n",
       "    <tr>\n",
       "      <th>11769</th>\n",
       "      <td>1006034</td>\n",
       "      <td>M</td>\n",
       "      <td>197086</td>\n",
       "    </tr>\n",
       "    <tr>\n",
       "      <th>11781</th>\n",
       "      <td>1006040</td>\n",
       "      <td>M</td>\n",
       "      <td>1653299</td>\n",
       "    </tr>\n",
       "  </tbody>\n",
       "</table>\n",
       "<p>4225 rows × 3 columns</p>\n",
       "</div>"
      ],
      "text/plain": [
       "       User_ID Gender  Purchase\n",
       "3      1000002      M    810472\n",
       "5      1000003      M    341635\n",
       "7      1000004      M    206468\n",
       "9      1000005      M    821001\n",
       "13     1000007      M    234668\n",
       "...        ...    ...       ...\n",
       "11761  1006030      M    737361\n",
       "11765  1006032      M    517261\n",
       "11767  1006033      M    501843\n",
       "11769  1006034      M    197086\n",
       "11781  1006040      M   1653299\n",
       "\n",
       "[4225 rows x 3 columns]"
      ]
     },
     "execution_count": 110,
     "metadata": {},
     "output_type": "execute_result"
    }
   ],
   "source": [
    "# Dataframe with data for Males\n",
    "df_male=df_gender[df_gender['Gender']=='M']\n",
    "df_male"
   ]
  },
  {
   "cell_type": "code",
   "execution_count": 111,
   "id": "bf363e00",
   "metadata": {},
   "outputs": [],
   "source": [
    "# Initiating an empty list to store mean values of each sample\n",
    "bootstrapped_mean_male=[]\n",
    "n = 400\n",
    "for i in range(10000):\n",
    "    samples=np.random.choice(df_male['Purchase'],size=n)\n",
    "    sample_mean=np.mean(samples)\n",
    "    bootstrapped_mean_male.append(sample_mean)"
   ]
  },
  {
   "cell_type": "code",
   "execution_count": 112,
   "id": "598771fd",
   "metadata": {},
   "outputs": [
    {
     "data": {
      "text/plain": [
       "Text(0.5, 1.0, 'Sampling distribution of mean_Male')"
      ]
     },
     "execution_count": 112,
     "metadata": {},
     "output_type": "execute_result"
    },
    {
     "data": {
      "image/png": "[encoded data removed]",
      "text/plain": [
       "<Figure size 432x288 with 1 Axes>"
      ]
     },
     "metadata": {
      "needs_background": "light"
     },
     "output_type": "display_data"
    }
   ],
   "source": [
    "sns.histplot(bootstrapped_mean_male)\n",
    "plt.title('Sampling distribution of mean_Male')"
   ]
  },
  {
   "cell_type": "markdown",
   "id": "db5374c4",
   "metadata": {},
   "source": [
    "### Bootstrapping with Sample size = 700"
   ]
  },
  {
   "cell_type": "markdown",
   "id": "435ef516",
   "metadata": {},
   "source": [
    "#### Female"
   ]
  },
  {
   "cell_type": "code",
   "execution_count": 113,
   "id": "f20d23cc",
   "metadata": {},
   "outputs": [
    {
     "data": {
      "text/html": [
       "<div>\n",
       "<style scoped>\n",
       "    .dataframe tbody tr th:only-of-type {\n",
       "        vertical-align: middle;\n",
       "    }\n",
       "\n",
       "    .dataframe tbody tr th {\n",
       "        vertical-align: top;\n",
       "    }\n",
       "\n",
       "    .dataframe thead th {\n",
       "        text-align: right;\n",
       "    }\n",
       "</style>\n",
       "<table border=\"1\" class=\"dataframe\">\n",
       "  <thead>\n",
       "    <tr style=\"text-align: right;\">\n",
       "      <th></th>\n",
       "      <th>User_ID</th>\n",
       "      <th>Gender</th>\n",
       "      <th>Purchase</th>\n",
       "    </tr>\n",
       "  </thead>\n",
       "  <tbody>\n",
       "    <tr>\n",
       "      <th>0</th>\n",
       "      <td>1000001</td>\n",
       "      <td>F</td>\n",
       "      <td>334093</td>\n",
       "    </tr>\n",
       "    <tr>\n",
       "      <th>10</th>\n",
       "      <td>1000006</td>\n",
       "      <td>F</td>\n",
       "      <td>379930</td>\n",
       "    </tr>\n",
       "    <tr>\n",
       "      <th>18</th>\n",
       "      <td>1000010</td>\n",
       "      <td>F</td>\n",
       "      <td>2169510</td>\n",
       "    </tr>\n",
       "    <tr>\n",
       "      <th>20</th>\n",
       "      <td>1000011</td>\n",
       "      <td>F</td>\n",
       "      <td>557023</td>\n",
       "    </tr>\n",
       "    <tr>\n",
       "      <th>30</th>\n",
       "      <td>1000016</td>\n",
       "      <td>F</td>\n",
       "      <td>150490</td>\n",
       "    </tr>\n",
       "    <tr>\n",
       "      <th>...</th>\n",
       "      <td>...</td>\n",
       "      <td>...</td>\n",
       "      <td>...</td>\n",
       "    </tr>\n",
       "    <tr>\n",
       "      <th>11770</th>\n",
       "      <td>1006035</td>\n",
       "      <td>F</td>\n",
       "      <td>956645</td>\n",
       "    </tr>\n",
       "    <tr>\n",
       "      <th>11772</th>\n",
       "      <td>1006036</td>\n",
       "      <td>F</td>\n",
       "      <td>4116058</td>\n",
       "    </tr>\n",
       "    <tr>\n",
       "      <th>11774</th>\n",
       "      <td>1006037</td>\n",
       "      <td>F</td>\n",
       "      <td>1119538</td>\n",
       "    </tr>\n",
       "    <tr>\n",
       "      <th>11776</th>\n",
       "      <td>1006038</td>\n",
       "      <td>F</td>\n",
       "      <td>90034</td>\n",
       "    </tr>\n",
       "    <tr>\n",
       "      <th>11778</th>\n",
       "      <td>1006039</td>\n",
       "      <td>F</td>\n",
       "      <td>590319</td>\n",
       "    </tr>\n",
       "  </tbody>\n",
       "</table>\n",
       "<p>1666 rows × 3 columns</p>\n",
       "</div>"
      ],
      "text/plain": [
       "       User_ID Gender  Purchase\n",
       "0      1000001      F    334093\n",
       "10     1000006      F    379930\n",
       "18     1000010      F   2169510\n",
       "20     1000011      F    557023\n",
       "30     1000016      F    150490\n",
       "...        ...    ...       ...\n",
       "11770  1006035      F    956645\n",
       "11772  1006036      F   4116058\n",
       "11774  1006037      F   1119538\n",
       "11776  1006038      F     90034\n",
       "11778  1006039      F    590319\n",
       "\n",
       "[1666 rows x 3 columns]"
      ]
     },
     "execution_count": 113,
     "metadata": {},
     "output_type": "execute_result"
    }
   ],
   "source": [
    "# Dataframe with data for Females\n",
    "df_female=df_gender[df_gender['Gender']=='F']\n",
    "df_female"
   ]
  },
  {
   "cell_type": "code",
   "execution_count": 114,
   "id": "7dcb5647",
   "metadata": {},
   "outputs": [],
   "source": [
    "# Initiating an empty list to store mean values of each sample\n",
    "bootstrapped_mean_female=[]\n",
    "n = 700\n",
    "for i in range(10000):\n",
    "    samples=np.random.choice(df_female['Purchase'],size=n)\n",
    "    sample_mean=np.mean(samples)\n",
    "    bootstrapped_mean_female.append(sample_mean)"
   ]
  },
  {
   "cell_type": "code",
   "execution_count": 115,
   "id": "06490ea3",
   "metadata": {},
   "outputs": [
    {
     "data": {
      "text/plain": [
       "Text(0.5, 1.0, 'Sampling distribution of mean_Female')"
      ]
     },
     "execution_count": 115,
     "metadata": {},
     "output_type": "execute_result"
    },
    {
     "data": {
      "image/png": "[encoded data removed]",
      "text/plain": [
       "<Figure size 432x288 with 1 Axes>"
      ]
     },
     "metadata": {
      "needs_background": "light"
     },
     "output_type": "display_data"
    }
   ],
   "source": [
    "sns.histplot(bootstrapped_mean_female)\n",
    "plt.title('Sampling distribution of mean_Female')"
   ]
  },
  {
   "cell_type": "markdown",
   "id": "8696d286",
   "metadata": {},
   "source": [
    "#### Male"
   ]
  },
  {
   "cell_type": "code",
   "execution_count": 116,
   "id": "12b9ab81",
   "metadata": {},
   "outputs": [
    {
     "data": {
      "text/html": [
       "<div>\n",
       "<style scoped>\n",
       "    .dataframe tbody tr th:only-of-type {\n",
       "        vertical-align: middle;\n",
       "    }\n",
       "\n",
       "    .dataframe tbody tr th {\n",
       "        vertical-align: top;\n",
       "    }\n",
       "\n",
       "    .dataframe thead th {\n",
       "        text-align: right;\n",
       "    }\n",
       "</style>\n",
       "<table border=\"1\" class=\"dataframe\">\n",
       "  <thead>\n",
       "    <tr style=\"text-align: right;\">\n",
       "      <th></th>\n",
       "      <th>User_ID</th>\n",
       "      <th>Gender</th>\n",
       "      <th>Purchase</th>\n",
       "    </tr>\n",
       "  </thead>\n",
       "  <tbody>\n",
       "    <tr>\n",
       "      <th>3</th>\n",
       "      <td>1000002</td>\n",
       "      <td>M</td>\n",
       "      <td>810472</td>\n",
       "    </tr>\n",
       "    <tr>\n",
       "      <th>5</th>\n",
       "      <td>1000003</td>\n",
       "      <td>M</td>\n",
       "      <td>341635</td>\n",
       "    </tr>\n",
       "    <tr>\n",
       "      <th>7</th>\n",
       "      <td>1000004</td>\n",
       "      <td>M</td>\n",
       "      <td>206468</td>\n",
       "    </tr>\n",
       "    <tr>\n",
       "      <th>9</th>\n",
       "      <td>1000005</td>\n",
       "      <td>M</td>\n",
       "      <td>821001</td>\n",
       "    </tr>\n",
       "    <tr>\n",
       "      <th>13</th>\n",
       "      <td>1000007</td>\n",
       "      <td>M</td>\n",
       "      <td>234668</td>\n",
       "    </tr>\n",
       "    <tr>\n",
       "      <th>...</th>\n",
       "      <td>...</td>\n",
       "      <td>...</td>\n",
       "      <td>...</td>\n",
       "    </tr>\n",
       "    <tr>\n",
       "      <th>11761</th>\n",
       "      <td>1006030</td>\n",
       "      <td>M</td>\n",
       "      <td>737361</td>\n",
       "    </tr>\n",
       "    <tr>\n",
       "      <th>11765</th>\n",
       "      <td>1006032</td>\n",
       "      <td>M</td>\n",
       "      <td>517261</td>\n",
       "    </tr>\n",
       "    <tr>\n",
       "      <th>11767</th>\n",
       "      <td>1006033</td>\n",
       "      <td>M</td>\n",
       "      <td>501843</td>\n",
       "    </tr>\n",
       "    <tr>\n",
       "      <th>11769</th>\n",
       "      <td>1006034</td>\n",
       "      <td>M</td>\n",
       "      <td>197086</td>\n",
       "    </tr>\n",
       "    <tr>\n",
       "      <th>11781</th>\n",
       "      <td>1006040</td>\n",
       "      <td>M</td>\n",
       "      <td>1653299</td>\n",
       "    </tr>\n",
       "  </tbody>\n",
       "</table>\n",
       "<p>4225 rows × 3 columns</p>\n",
       "</div>"
      ],
      "text/plain": [
       "       User_ID Gender  Purchase\n",
       "3      1000002      M    810472\n",
       "5      1000003      M    341635\n",
       "7      1000004      M    206468\n",
       "9      1000005      M    821001\n",
       "13     1000007      M    234668\n",
       "...        ...    ...       ...\n",
       "11761  1006030      M    737361\n",
       "11765  1006032      M    517261\n",
       "11767  1006033      M    501843\n",
       "11769  1006034      M    197086\n",
       "11781  1006040      M   1653299\n",
       "\n",
       "[4225 rows x 3 columns]"
      ]
     },
     "execution_count": 116,
     "metadata": {},
     "output_type": "execute_result"
    }
   ],
   "source": [
    "# Dataframe with data for Males\n",
    "df_male=df_gender[df_gender['Gender']=='M']\n",
    "df_male"
   ]
  },
  {
   "cell_type": "code",
   "execution_count": 117,
   "id": "8765893b",
   "metadata": {},
   "outputs": [],
   "source": [
    "# Initiating an empty list to store mean values of each sample\n",
    "bootstrapped_mean_male=[]\n",
    "n = 700\n",
    "for i in range(10000):\n",
    "    samples=np.random.choice(df_male['Purchase'],size=n)\n",
    "    sample_mean=np.mean(samples)\n",
    "    bootstrapped_mean_male.append(sample_mean)"
   ]
  },
  {
   "cell_type": "code",
   "execution_count": 118,
   "id": "64275b9b",
   "metadata": {},
   "outputs": [
    {
     "data": {
      "text/plain": [
       "Text(0.5, 1.0, 'Sampling distribution of mean_Male')"
      ]
     },
     "execution_count": 118,
     "metadata": {},
     "output_type": "execute_result"
    },
    {
     "data": {
      "image/png": "[encoded data removed]",
      "text/plain": [
       "<Figure size 432x288 with 1 Axes>"
      ]
     },
     "metadata": {
      "needs_background": "light"
     },
     "output_type": "display_data"
    }
   ],
   "source": [
    "sns.histplot(bootstrapped_mean_male)\n",
    "plt.title('Sampling distribution of mean_Male')"
   ]
  },
  {
   "cell_type": "markdown",
   "id": "c1f6c574",
   "metadata": {},
   "source": [
    "### The sampling distribution has much less variance when sample size is changed to 400 from 200. When sample size is 700, the variance sees a small decrease. Hence the sample size is fixed as 700 for further calculations. "
   ]
  },
  {
   "cell_type": "markdown",
   "id": "228345de",
   "metadata": {},
   "source": [
    "### Confidence Interval at 90% Confidence"
   ]
  },
  {
   "cell_type": "code",
   "execution_count": 128,
   "id": "2037951c",
   "metadata": {},
   "outputs": [
    {
     "data": {
      "text/plain": [
       "807312.3659999998"
      ]
     },
     "execution_count": 128,
     "metadata": {},
     "output_type": "execute_result"
    }
   ],
   "source": [
    "# Calculating Confidence Interval for Females\n",
    "upper_female=np.percentile(bootstrapped_mean_female,95)\n",
    "upper_female"
   ]
  },
  {
   "cell_type": "code",
   "execution_count": 129,
   "id": "0714a19d",
   "metadata": {},
   "outputs": [
    {
     "data": {
      "text/plain": [
       "622034.5765"
      ]
     },
     "execution_count": 129,
     "metadata": {},
     "output_type": "execute_result"
    }
   ],
   "source": [
    "lower_female=np.percentile(bootstrapped_mean_female,5)\n",
    "lower_female"
   ]
  },
  {
   "cell_type": "code",
   "execution_count": 130,
   "id": "8650fdd4",
   "metadata": {},
   "outputs": [
    {
     "data": {
      "text/plain": [
       "1044020.183"
      ]
     },
     "execution_count": 130,
     "metadata": {},
     "output_type": "execute_result"
    }
   ],
   "source": [
    "# Calculating Confidence Interval for Males\n",
    "upper_male=np.percentile(bootstrapped_mean_male,95)\n",
    "upper_male"
   ]
  },
  {
   "cell_type": "code",
   "execution_count": 131,
   "id": "1ac700a0",
   "metadata": {},
   "outputs": [
    {
     "data": {
      "text/plain": [
       "813655.92825"
      ]
     },
     "execution_count": 131,
     "metadata": {},
     "output_type": "execute_result"
    }
   ],
   "source": [
    "lower_male=np.percentile(bootstrapped_mean_male,5)\n",
    "lower_male"
   ]
  },
  {
   "cell_type": "markdown",
   "id": "9eb93687",
   "metadata": {},
   "source": [
    "### At 90% confidence the CI for Females is [622035, 807312] and for Males is [813656, 1044020]. There is no overlap observed. "
   ]
  },
  {
   "cell_type": "markdown",
   "id": "4121edc6",
   "metadata": {},
   "source": [
    "### Confidence Interval at 95% Confidence"
   ]
  },
  {
   "cell_type": "code",
   "execution_count": 132,
   "id": "e4df52e7",
   "metadata": {},
   "outputs": [
    {
     "data": {
      "text/plain": [
       "827204.3815"
      ]
     },
     "execution_count": 132,
     "metadata": {},
     "output_type": "execute_result"
    }
   ],
   "source": [
    "# Calculating Confidence Interval for Females\n",
    "upper_female=np.percentile(bootstrapped_mean_female,97.5)\n",
    "upper_female"
   ]
  },
  {
   "cell_type": "code",
   "execution_count": 133,
   "id": "a7fbdbbb",
   "metadata": {},
   "outputs": [
    {
     "data": {
      "text/plain": [
       "605642.46725"
      ]
     },
     "execution_count": 133,
     "metadata": {},
     "output_type": "execute_result"
    }
   ],
   "source": [
    "lower_female=np.percentile(bootstrapped_mean_female,2.5)\n",
    "lower_female"
   ]
  },
  {
   "cell_type": "code",
   "execution_count": 134,
   "id": "95b44021",
   "metadata": {},
   "outputs": [
    {
     "data": {
      "text/plain": [
       "1067461.103625"
      ]
     },
     "execution_count": 134,
     "metadata": {},
     "output_type": "execute_result"
    }
   ],
   "source": [
    "# Calculating Confidence Interval for Males\n",
    "upper_male=np.percentile(bootstrapped_mean_male,97.5)\n",
    "upper_male"
   ]
  },
  {
   "cell_type": "code",
   "execution_count": 135,
   "id": "1102eefa",
   "metadata": {},
   "outputs": [
    {
     "data": {
      "text/plain": [
       "794555.94875"
      ]
     },
     "execution_count": 135,
     "metadata": {},
     "output_type": "execute_result"
    }
   ],
   "source": [
    "lower_male=np.percentile(bootstrapped_mean_male,2.5)\n",
    "lower_male"
   ]
  },
  {
   "cell_type": "markdown",
   "id": "76d4cbdd",
   "metadata": {},
   "source": [
    "### At 95% confidence the CI for Females is [605642, 827204] and for Males is [794555, 1067461]. There is overlap observed. "
   ]
  },
  {
   "cell_type": "markdown",
   "id": "6ce2107e",
   "metadata": {},
   "source": [
    "### 3. Are confidence intervals of average male and female spending overlapping? How can the client leverage this conclusion to make changes or improvements? "
   ]
  },
  {
   "cell_type": "markdown",
   "id": "1175dbf8",
   "metadata": {},
   "source": [
    "### It is observed that at 90% confidence, there is no overlap between the Confidence Intervals of Females and Males. This helps in concluding that the average purchase amount of Females is less than Males. They can focus on offers "
   ]
  },
  {
   "cell_type": "markdown",
   "id": "4779e008",
   "metadata": {},
   "source": [
    "### 4. Results when the same activity is performed for Married vs Unmarried"
   ]
  },
  {
   "cell_type": "code",
   "execution_count": 144,
   "id": "f3104b7c",
   "metadata": {},
   "outputs": [
    {
     "data": {
      "text/html": [
       "<div>\n",
       "<style scoped>\n",
       "    .dataframe tbody tr th:only-of-type {\n",
       "        vertical-align: middle;\n",
       "    }\n",
       "\n",
       "    .dataframe tbody tr th {\n",
       "        vertical-align: top;\n",
       "    }\n",
       "\n",
       "    .dataframe thead th {\n",
       "        text-align: right;\n",
       "    }\n",
       "</style>\n",
       "<table border=\"1\" class=\"dataframe\">\n",
       "  <thead>\n",
       "    <tr style=\"text-align: right;\">\n",
       "      <th></th>\n",
       "      <th>User_ID</th>\n",
       "      <th>Marital_Status</th>\n",
       "      <th>Purchase</th>\n",
       "    </tr>\n",
       "  </thead>\n",
       "  <tbody>\n",
       "    <tr>\n",
       "      <th>0</th>\n",
       "      <td>1000001</td>\n",
       "      <td>0</td>\n",
       "      <td>334093</td>\n",
       "    </tr>\n",
       "    <tr>\n",
       "      <th>2</th>\n",
       "      <td>1000002</td>\n",
       "      <td>0</td>\n",
       "      <td>810472</td>\n",
       "    </tr>\n",
       "    <tr>\n",
       "      <th>4</th>\n",
       "      <td>1000003</td>\n",
       "      <td>0</td>\n",
       "      <td>341635</td>\n",
       "    </tr>\n",
       "    <tr>\n",
       "      <th>7</th>\n",
       "      <td>1000004</td>\n",
       "      <td>1</td>\n",
       "      <td>206468</td>\n",
       "    </tr>\n",
       "    <tr>\n",
       "      <th>9</th>\n",
       "      <td>1000005</td>\n",
       "      <td>1</td>\n",
       "      <td>821001</td>\n",
       "    </tr>\n",
       "    <tr>\n",
       "      <th>...</th>\n",
       "      <td>...</td>\n",
       "      <td>...</td>\n",
       "      <td>...</td>\n",
       "    </tr>\n",
       "    <tr>\n",
       "      <th>11773</th>\n",
       "      <td>1006036</td>\n",
       "      <td>1</td>\n",
       "      <td>4116058</td>\n",
       "    </tr>\n",
       "    <tr>\n",
       "      <th>11774</th>\n",
       "      <td>1006037</td>\n",
       "      <td>0</td>\n",
       "      <td>1119538</td>\n",
       "    </tr>\n",
       "    <tr>\n",
       "      <th>11776</th>\n",
       "      <td>1006038</td>\n",
       "      <td>0</td>\n",
       "      <td>90034</td>\n",
       "    </tr>\n",
       "    <tr>\n",
       "      <th>11779</th>\n",
       "      <td>1006039</td>\n",
       "      <td>1</td>\n",
       "      <td>590319</td>\n",
       "    </tr>\n",
       "    <tr>\n",
       "      <th>11780</th>\n",
       "      <td>1006040</td>\n",
       "      <td>0</td>\n",
       "      <td>1653299</td>\n",
       "    </tr>\n",
       "  </tbody>\n",
       "</table>\n",
       "<p>5891 rows × 3 columns</p>\n",
       "</div>"
      ],
      "text/plain": [
       "       User_ID Marital_Status  Purchase\n",
       "0      1000001              0    334093\n",
       "2      1000002              0    810472\n",
       "4      1000003              0    341635\n",
       "7      1000004              1    206468\n",
       "9      1000005              1    821001\n",
       "...        ...            ...       ...\n",
       "11773  1006036              1   4116058\n",
       "11774  1006037              0   1119538\n",
       "11776  1006038              0     90034\n",
       "11779  1006039              1    590319\n",
       "11780  1006040              0   1653299\n",
       "\n",
       "[5891 rows x 3 columns]"
      ]
     },
     "execution_count": 144,
     "metadata": {},
     "output_type": "execute_result"
    }
   ],
   "source": [
    "# Calculating total purchase per user id\n",
    "df_marital=df.groupby(['User_ID','Marital_Status'])['Purchase'].sum().reset_index()\n",
    "df_marital=df_marital[df_marital['Purchase']!=0]\n",
    "df_marital"
   ]
  },
  {
   "cell_type": "code",
   "execution_count": 145,
   "id": "bb053538",
   "metadata": {},
   "outputs": [
    {
     "data": {
      "text/plain": [
       "880575.7819724905"
      ]
     },
     "execution_count": 145,
     "metadata": {},
     "output_type": "execute_result"
    }
   ],
   "source": [
    "mean_single=df_marital[df_marital['Marital_Status']==0]['Purchase'].mean()\n",
    "mean_single"
   ]
  },
  {
   "cell_type": "code",
   "execution_count": 146,
   "id": "e7ce9b68",
   "metadata": {},
   "outputs": [
    {
     "data": {
      "text/plain": [
       "843526.7966855295"
      ]
     },
     "execution_count": 146,
     "metadata": {},
     "output_type": "execute_result"
    }
   ],
   "source": [
    "mean_married=df_marital[df_marital['Marital_Status']==1]['Purchase'].mean()\n",
    "mean_married"
   ]
  },
  {
   "cell_type": "code",
   "execution_count": 147,
   "id": "9c7f8c74",
   "metadata": {},
   "outputs": [
    {
     "data": {
      "text/plain": [
       "37048.98528696096"
      ]
     },
     "execution_count": 147,
     "metadata": {},
     "output_type": "execute_result"
    }
   ],
   "source": [
    "mean_single-mean_married"
   ]
  },
  {
   "cell_type": "markdown",
   "id": "37ff6443",
   "metadata": {},
   "source": [
    "### The mean purchase amount is more for single than married by a mere 37049 Dollars.  "
   ]
  },
  {
   "cell_type": "markdown",
   "id": "856dd9c6",
   "metadata": {},
   "source": [
    "### 2.\tConfidence intervals and distribution of the mean of the expenses by single and married customers "
   ]
  },
  {
   "cell_type": "code",
   "execution_count": 148,
   "id": "dfdbcd79",
   "metadata": {},
   "outputs": [
    {
     "data": {
      "text/plain": [
       "0    3417\n",
       "1    2474\n",
       "Name: Marital_Status, dtype: int64"
      ]
     },
     "execution_count": 148,
     "metadata": {},
     "output_type": "execute_result"
    }
   ],
   "source": [
    "# Finding total number of single and married users in the dataset\n",
    "df_marital['Marital_Status'].value_counts()"
   ]
  },
  {
   "cell_type": "markdown",
   "id": "26d6f2ad",
   "metadata": {},
   "source": [
    "#### Considering the total number of men and women,  sample sizes of 700 and 1000 are being considered for observation"
   ]
  },
  {
   "cell_type": "markdown",
   "id": "918a027e",
   "metadata": {},
   "source": [
    "### Bootstrapping with Sample size = 700"
   ]
  },
  {
   "cell_type": "markdown",
   "id": "1772dc90",
   "metadata": {},
   "source": [
    "#### Single"
   ]
  },
  {
   "cell_type": "code",
   "execution_count": 149,
   "id": "3640913e",
   "metadata": {},
   "outputs": [
    {
     "data": {
      "text/html": [
       "<div>\n",
       "<style scoped>\n",
       "    .dataframe tbody tr th:only-of-type {\n",
       "        vertical-align: middle;\n",
       "    }\n",
       "\n",
       "    .dataframe tbody tr th {\n",
       "        vertical-align: top;\n",
       "    }\n",
       "\n",
       "    .dataframe thead th {\n",
       "        text-align: right;\n",
       "    }\n",
       "</style>\n",
       "<table border=\"1\" class=\"dataframe\">\n",
       "  <thead>\n",
       "    <tr style=\"text-align: right;\">\n",
       "      <th></th>\n",
       "      <th>User_ID</th>\n",
       "      <th>Marital_Status</th>\n",
       "      <th>Purchase</th>\n",
       "    </tr>\n",
       "  </thead>\n",
       "  <tbody>\n",
       "    <tr>\n",
       "      <th>0</th>\n",
       "      <td>1000001</td>\n",
       "      <td>0</td>\n",
       "      <td>334093</td>\n",
       "    </tr>\n",
       "    <tr>\n",
       "      <th>2</th>\n",
       "      <td>1000002</td>\n",
       "      <td>0</td>\n",
       "      <td>810472</td>\n",
       "    </tr>\n",
       "    <tr>\n",
       "      <th>4</th>\n",
       "      <td>1000003</td>\n",
       "      <td>0</td>\n",
       "      <td>341635</td>\n",
       "    </tr>\n",
       "    <tr>\n",
       "      <th>10</th>\n",
       "      <td>1000006</td>\n",
       "      <td>0</td>\n",
       "      <td>379930</td>\n",
       "    </tr>\n",
       "    <tr>\n",
       "      <th>16</th>\n",
       "      <td>1000009</td>\n",
       "      <td>0</td>\n",
       "      <td>594099</td>\n",
       "    </tr>\n",
       "    <tr>\n",
       "      <th>...</th>\n",
       "      <td>...</td>\n",
       "      <td>...</td>\n",
       "      <td>...</td>\n",
       "    </tr>\n",
       "    <tr>\n",
       "      <th>11768</th>\n",
       "      <td>1006034</td>\n",
       "      <td>0</td>\n",
       "      <td>197086</td>\n",
       "    </tr>\n",
       "    <tr>\n",
       "      <th>11770</th>\n",
       "      <td>1006035</td>\n",
       "      <td>0</td>\n",
       "      <td>956645</td>\n",
       "    </tr>\n",
       "    <tr>\n",
       "      <th>11774</th>\n",
       "      <td>1006037</td>\n",
       "      <td>0</td>\n",
       "      <td>1119538</td>\n",
       "    </tr>\n",
       "    <tr>\n",
       "      <th>11776</th>\n",
       "      <td>1006038</td>\n",
       "      <td>0</td>\n",
       "      <td>90034</td>\n",
       "    </tr>\n",
       "    <tr>\n",
       "      <th>11780</th>\n",
       "      <td>1006040</td>\n",
       "      <td>0</td>\n",
       "      <td>1653299</td>\n",
       "    </tr>\n",
       "  </tbody>\n",
       "</table>\n",
       "<p>3417 rows × 3 columns</p>\n",
       "</div>"
      ],
      "text/plain": [
       "       User_ID Marital_Status  Purchase\n",
       "0      1000001              0    334093\n",
       "2      1000002              0    810472\n",
       "4      1000003              0    341635\n",
       "10     1000006              0    379930\n",
       "16     1000009              0    594099\n",
       "...        ...            ...       ...\n",
       "11768  1006034              0    197086\n",
       "11770  1006035              0    956645\n",
       "11774  1006037              0   1119538\n",
       "11776  1006038              0     90034\n",
       "11780  1006040              0   1653299\n",
       "\n",
       "[3417 rows x 3 columns]"
      ]
     },
     "execution_count": 149,
     "metadata": {},
     "output_type": "execute_result"
    }
   ],
   "source": [
    "# Dataframe with data for Single customers\n",
    "df_single=df_marital[df_marital['Marital_Status']==0]\n",
    "df_single"
   ]
  },
  {
   "cell_type": "code",
   "execution_count": 150,
   "id": "0a874666",
   "metadata": {},
   "outputs": [],
   "source": [
    "# Initiating an empty list to store mean values of each sample\n",
    "bootstrapped_mean_single=[]\n",
    "n = 700\n",
    "for i in range(10000):\n",
    "    samples=np.random.choice(df_single['Purchase'],size=n)\n",
    "    sample_mean=np.mean(samples)\n",
    "    bootstrapped_mean_single.append(sample_mean)"
   ]
  },
  {
   "cell_type": "code",
   "execution_count": 151,
   "id": "68edd628",
   "metadata": {},
   "outputs": [
    {
     "data": {
      "text/plain": [
       "Text(0.5, 1.0, 'Sampling distribution of mean_Single')"
      ]
     },
     "execution_count": 151,
     "metadata": {},
     "output_type": "execute_result"
    },
    {
     "data": {
      "image/png": "[encoded data removed]",
      "text/plain": [
       "<Figure size 432x288 with 1 Axes>"
      ]
     },
     "metadata": {
      "needs_background": "light"
     },
     "output_type": "display_data"
    }
   ],
   "source": [
    "sns.histplot(bootstrapped_mean_single)\n",
    "plt.title('Sampling distribution of mean_Single')"
   ]
  },
  {
   "cell_type": "markdown",
   "id": "d91cd993",
   "metadata": {},
   "source": [
    "#### 18-25"
   ]
  },
  {
   "cell_type": "code",
   "execution_count": 152,
   "id": "08840189",
   "metadata": {},
   "outputs": [
    {
     "data": {
      "text/html": [
       "<div>\n",
       "<style scoped>\n",
       "    .dataframe tbody tr th:only-of-type {\n",
       "        vertical-align: middle;\n",
       "    }\n",
       "\n",
       "    .dataframe tbody tr th {\n",
       "        vertical-align: top;\n",
       "    }\n",
       "\n",
       "    .dataframe thead th {\n",
       "        text-align: right;\n",
       "    }\n",
       "</style>\n",
       "<table border=\"1\" class=\"dataframe\">\n",
       "  <thead>\n",
       "    <tr style=\"text-align: right;\">\n",
       "      <th></th>\n",
       "      <th>User_ID</th>\n",
       "      <th>Marital_Status</th>\n",
       "      <th>Purchase</th>\n",
       "    </tr>\n",
       "  </thead>\n",
       "  <tbody>\n",
       "    <tr>\n",
       "      <th>7</th>\n",
       "      <td>1000004</td>\n",
       "      <td>1</td>\n",
       "      <td>206468</td>\n",
       "    </tr>\n",
       "    <tr>\n",
       "      <th>9</th>\n",
       "      <td>1000005</td>\n",
       "      <td>1</td>\n",
       "      <td>821001</td>\n",
       "    </tr>\n",
       "    <tr>\n",
       "      <th>13</th>\n",
       "      <td>1000007</td>\n",
       "      <td>1</td>\n",
       "      <td>234668</td>\n",
       "    </tr>\n",
       "    <tr>\n",
       "      <th>15</th>\n",
       "      <td>1000008</td>\n",
       "      <td>1</td>\n",
       "      <td>796593</td>\n",
       "    </tr>\n",
       "    <tr>\n",
       "      <th>19</th>\n",
       "      <td>1000010</td>\n",
       "      <td>1</td>\n",
       "      <td>2169510</td>\n",
       "    </tr>\n",
       "    <tr>\n",
       "      <th>...</th>\n",
       "      <td>...</td>\n",
       "      <td>...</td>\n",
       "      <td>...</td>\n",
       "    </tr>\n",
       "    <tr>\n",
       "      <th>11759</th>\n",
       "      <td>1006029</td>\n",
       "      <td>1</td>\n",
       "      <td>157436</td>\n",
       "    </tr>\n",
       "    <tr>\n",
       "      <th>11761</th>\n",
       "      <td>1006030</td>\n",
       "      <td>1</td>\n",
       "      <td>737361</td>\n",
       "    </tr>\n",
       "    <tr>\n",
       "      <th>11767</th>\n",
       "      <td>1006033</td>\n",
       "      <td>1</td>\n",
       "      <td>501843</td>\n",
       "    </tr>\n",
       "    <tr>\n",
       "      <th>11773</th>\n",
       "      <td>1006036</td>\n",
       "      <td>1</td>\n",
       "      <td>4116058</td>\n",
       "    </tr>\n",
       "    <tr>\n",
       "      <th>11779</th>\n",
       "      <td>1006039</td>\n",
       "      <td>1</td>\n",
       "      <td>590319</td>\n",
       "    </tr>\n",
       "  </tbody>\n",
       "</table>\n",
       "<p>2474 rows × 3 columns</p>\n",
       "</div>"
      ],
      "text/plain": [
       "       User_ID Marital_Status  Purchase\n",
       "7      1000004              1    206468\n",
       "9      1000005              1    821001\n",
       "13     1000007              1    234668\n",
       "15     1000008              1    796593\n",
       "19     1000010              1   2169510\n",
       "...        ...            ...       ...\n",
       "11759  1006029              1    157436\n",
       "11761  1006030              1    737361\n",
       "11767  1006033              1    501843\n",
       "11773  1006036              1   4116058\n",
       "11779  1006039              1    590319\n",
       "\n",
       "[2474 rows x 3 columns]"
      ]
     },
     "execution_count": 152,
     "metadata": {},
     "output_type": "execute_result"
    }
   ],
   "source": [
    "# Dataframe with data for Married customers\n",
    "df_married=df_marital[df_marital['Marital_Status']==1]\n",
    "df_married"
   ]
  },
  {
   "cell_type": "code",
   "execution_count": 153,
   "id": "159c5cde",
   "metadata": {},
   "outputs": [],
   "source": [
    "# Initiating an empty list to store mean values of each sample\n",
    "bootstrapped_mean_married=[]\n",
    "n = 700\n",
    "for i in range(10000):\n",
    "    samples=np.random.choice(df_married['Purchase'],size=n)\n",
    "    sample_mean=np.mean(samples)\n",
    "    bootstrapped_mean_married.append(sample_mean)"
   ]
  },
  {
   "cell_type": "code",
   "execution_count": 154,
   "id": "9f9fcc6e",
   "metadata": {},
   "outputs": [
    {
     "data": {
      "text/plain": [
       "Text(0.5, 1.0, 'Sampling distribution of mean_Married')"
      ]
     },
     "execution_count": 154,
     "metadata": {},
     "output_type": "execute_result"
    },
    {
     "data": {
      "image/png": "[encoded data removed]",
      "text/plain": [
       "<Figure size 432x288 with 1 Axes>"
      ]
     },
     "metadata": {
      "needs_background": "light"
     },
     "output_type": "display_data"
    }
   ],
   "source": [
    "sns.histplot(bootstrapped_mean_married)\n",
    "plt.title('Sampling distribution of mean_Married')"
   ]
  },
  {
   "cell_type": "markdown",
   "id": "77a4277c",
   "metadata": {},
   "source": [
    "### Bootstrapping with Sample size = 1000"
   ]
  },
  {
   "cell_type": "markdown",
   "id": "327ae255",
   "metadata": {},
   "source": [
    "#### Single"
   ]
  },
  {
   "cell_type": "code",
   "execution_count": 149,
   "id": "44bfa2df",
   "metadata": {},
   "outputs": [
    {
     "data": {
      "text/html": [
       "<div>\n",
       "<style scoped>\n",
       "    .dataframe tbody tr th:only-of-type {\n",
       "        vertical-align: middle;\n",
       "    }\n",
       "\n",
       "    .dataframe tbody tr th {\n",
       "        vertical-align: top;\n",
       "    }\n",
       "\n",
       "    .dataframe thead th {\n",
       "        text-align: right;\n",
       "    }\n",
       "</style>\n",
       "<table border=\"1\" class=\"dataframe\">\n",
       "  <thead>\n",
       "    <tr style=\"text-align: right;\">\n",
       "      <th></th>\n",
       "      <th>User_ID</th>\n",
       "      <th>Marital_Status</th>\n",
       "      <th>Purchase</th>\n",
       "    </tr>\n",
       "  </thead>\n",
       "  <tbody>\n",
       "    <tr>\n",
       "      <th>0</th>\n",
       "      <td>1000001</td>\n",
       "      <td>0</td>\n",
       "      <td>334093</td>\n",
       "    </tr>\n",
       "    <tr>\n",
       "      <th>2</th>\n",
       "      <td>1000002</td>\n",
       "      <td>0</td>\n",
       "      <td>810472</td>\n",
       "    </tr>\n",
       "    <tr>\n",
       "      <th>4</th>\n",
       "      <td>1000003</td>\n",
       "      <td>0</td>\n",
       "      <td>341635</td>\n",
       "    </tr>\n",
       "    <tr>\n",
       "      <th>10</th>\n",
       "      <td>1000006</td>\n",
       "      <td>0</td>\n",
       "      <td>379930</td>\n",
       "    </tr>\n",
       "    <tr>\n",
       "      <th>16</th>\n",
       "      <td>1000009</td>\n",
       "      <td>0</td>\n",
       "      <td>594099</td>\n",
       "    </tr>\n",
       "    <tr>\n",
       "      <th>...</th>\n",
       "      <td>...</td>\n",
       "      <td>...</td>\n",
       "      <td>...</td>\n",
       "    </tr>\n",
       "    <tr>\n",
       "      <th>11768</th>\n",
       "      <td>1006034</td>\n",
       "      <td>0</td>\n",
       "      <td>197086</td>\n",
       "    </tr>\n",
       "    <tr>\n",
       "      <th>11770</th>\n",
       "      <td>1006035</td>\n",
       "      <td>0</td>\n",
       "      <td>956645</td>\n",
       "    </tr>\n",
       "    <tr>\n",
       "      <th>11774</th>\n",
       "      <td>1006037</td>\n",
       "      <td>0</td>\n",
       "      <td>1119538</td>\n",
       "    </tr>\n",
       "    <tr>\n",
       "      <th>11776</th>\n",
       "      <td>1006038</td>\n",
       "      <td>0</td>\n",
       "      <td>90034</td>\n",
       "    </tr>\n",
       "    <tr>\n",
       "      <th>11780</th>\n",
       "      <td>1006040</td>\n",
       "      <td>0</td>\n",
       "      <td>1653299</td>\n",
       "    </tr>\n",
       "  </tbody>\n",
       "</table>\n",
       "<p>3417 rows × 3 columns</p>\n",
       "</div>"
      ],
      "text/plain": [
       "       User_ID Marital_Status  Purchase\n",
       "0      1000001              0    334093\n",
       "2      1000002              0    810472\n",
       "4      1000003              0    341635\n",
       "10     1000006              0    379930\n",
       "16     1000009              0    594099\n",
       "...        ...            ...       ...\n",
       "11768  1006034              0    197086\n",
       "11770  1006035              0    956645\n",
       "11774  1006037              0   1119538\n",
       "11776  1006038              0     90034\n",
       "11780  1006040              0   1653299\n",
       "\n",
       "[3417 rows x 3 columns]"
      ]
     },
     "execution_count": 149,
     "metadata": {},
     "output_type": "execute_result"
    }
   ],
   "source": [
    "# Dataframe with data for Single customers\n",
    "df_single=df_marital[df_marital['Marital_Status']==0]\n",
    "df_single"
   ]
  },
  {
   "cell_type": "code",
   "execution_count": 155,
   "id": "8451169d",
   "metadata": {},
   "outputs": [],
   "source": [
    "# Initiating an empty list to store mean values of each sample\n",
    "bootstrapped_mean_single=[]\n",
    "n = 1000\n",
    "for i in range(10000):\n",
    "    samples=np.random.choice(df_single['Purchase'],size=n)\n",
    "    sample_mean=np.mean(samples)\n",
    "    bootstrapped_mean_single.append(sample_mean)"
   ]
  },
  {
   "cell_type": "code",
   "execution_count": 156,
   "id": "5e02eb3f",
   "metadata": {},
   "outputs": [
    {
     "data": {
      "text/plain": [
       "Text(0.5, 1.0, 'Sampling distribution of mean_Single')"
      ]
     },
     "execution_count": 156,
     "metadata": {},
     "output_type": "execute_result"
    },
    {
     "data": {
      "image/png": "[encoded data removed]",
      "text/plain": [
       "<Figure size 432x288 with 1 Axes>"
      ]
     },
     "metadata": {
      "needs_background": "light"
     },
     "output_type": "display_data"
    }
   ],
   "source": [
    "sns.histplot(bootstrapped_mean_single)\n",
    "plt.title('Sampling distribution of mean_Single')"
   ]
  },
  {
   "cell_type": "markdown",
   "id": "f4695436",
   "metadata": {},
   "source": [
    "#### Married"
   ]
  },
  {
   "cell_type": "code",
   "execution_count": 152,
   "id": "82567699",
   "metadata": {},
   "outputs": [
    {
     "data": {
      "text/html": [
       "<div>\n",
       "<style scoped>\n",
       "    .dataframe tbody tr th:only-of-type {\n",
       "        vertical-align: middle;\n",
       "    }\n",
       "\n",
       "    .dataframe tbody tr th {\n",
       "        vertical-align: top;\n",
       "    }\n",
       "\n",
       "    .dataframe thead th {\n",
       "        text-align: right;\n",
       "    }\n",
       "</style>\n",
       "<table border=\"1\" class=\"dataframe\">\n",
       "  <thead>\n",
       "    <tr style=\"text-align: right;\">\n",
       "      <th></th>\n",
       "      <th>User_ID</th>\n",
       "      <th>Marital_Status</th>\n",
       "      <th>Purchase</th>\n",
       "    </tr>\n",
       "  </thead>\n",
       "  <tbody>\n",
       "    <tr>\n",
       "      <th>7</th>\n",
       "      <td>1000004</td>\n",
       "      <td>1</td>\n",
       "      <td>206468</td>\n",
       "    </tr>\n",
       "    <tr>\n",
       "      <th>9</th>\n",
       "      <td>1000005</td>\n",
       "      <td>1</td>\n",
       "      <td>821001</td>\n",
       "    </tr>\n",
       "    <tr>\n",
       "      <th>13</th>\n",
       "      <td>1000007</td>\n",
       "      <td>1</td>\n",
       "      <td>234668</td>\n",
       "    </tr>\n",
       "    <tr>\n",
       "      <th>15</th>\n",
       "      <td>1000008</td>\n",
       "      <td>1</td>\n",
       "      <td>796593</td>\n",
       "    </tr>\n",
       "    <tr>\n",
       "      <th>19</th>\n",
       "      <td>1000010</td>\n",
       "      <td>1</td>\n",
       "      <td>2169510</td>\n",
       "    </tr>\n",
       "    <tr>\n",
       "      <th>...</th>\n",
       "      <td>...</td>\n",
       "      <td>...</td>\n",
       "      <td>...</td>\n",
       "    </tr>\n",
       "    <tr>\n",
       "      <th>11759</th>\n",
       "      <td>1006029</td>\n",
       "      <td>1</td>\n",
       "      <td>157436</td>\n",
       "    </tr>\n",
       "    <tr>\n",
       "      <th>11761</th>\n",
       "      <td>1006030</td>\n",
       "      <td>1</td>\n",
       "      <td>737361</td>\n",
       "    </tr>\n",
       "    <tr>\n",
       "      <th>11767</th>\n",
       "      <td>1006033</td>\n",
       "      <td>1</td>\n",
       "      <td>501843</td>\n",
       "    </tr>\n",
       "    <tr>\n",
       "      <th>11773</th>\n",
       "      <td>1006036</td>\n",
       "      <td>1</td>\n",
       "      <td>4116058</td>\n",
       "    </tr>\n",
       "    <tr>\n",
       "      <th>11779</th>\n",
       "      <td>1006039</td>\n",
       "      <td>1</td>\n",
       "      <td>590319</td>\n",
       "    </tr>\n",
       "  </tbody>\n",
       "</table>\n",
       "<p>2474 rows × 3 columns</p>\n",
       "</div>"
      ],
      "text/plain": [
       "       User_ID Marital_Status  Purchase\n",
       "7      1000004              1    206468\n",
       "9      1000005              1    821001\n",
       "13     1000007              1    234668\n",
       "15     1000008              1    796593\n",
       "19     1000010              1   2169510\n",
       "...        ...            ...       ...\n",
       "11759  1006029              1    157436\n",
       "11761  1006030              1    737361\n",
       "11767  1006033              1    501843\n",
       "11773  1006036              1   4116058\n",
       "11779  1006039              1    590319\n",
       "\n",
       "[2474 rows x 3 columns]"
      ]
     },
     "execution_count": 152,
     "metadata": {},
     "output_type": "execute_result"
    }
   ],
   "source": [
    "# Dataframe with data for Married customers\n",
    "df_married=df_marital[df_marital['Marital_Status']==1]\n",
    "df_married"
   ]
  },
  {
   "cell_type": "code",
   "execution_count": 157,
   "id": "7d24761d",
   "metadata": {},
   "outputs": [],
   "source": [
    "# Initiating an empty list to store mean values of each sample\n",
    "bootstrapped_mean_married=[]\n",
    "n = 1000\n",
    "for i in range(10000):\n",
    "    samples=np.random.choice(df_married['Purchase'],size=n)\n",
    "    sample_mean=np.mean(samples)\n",
    "    bootstrapped_mean_married.append(sample_mean)"
   ]
  },
  {
   "cell_type": "code",
   "execution_count": 158,
   "id": "cff55e19",
   "metadata": {},
   "outputs": [
    {
     "data": {
      "text/plain": [
       "Text(0.5, 1.0, 'Sampling distribution of mean_Married')"
      ]
     },
     "execution_count": 158,
     "metadata": {},
     "output_type": "execute_result"
    },
    {
     "data": {
      "image/png": "[encoded data removed]",
      "text/plain": [
       "<Figure size 432x288 with 1 Axes>"
      ]
     },
     "metadata": {
      "needs_background": "light"
     },
     "output_type": "display_data"
    }
   ],
   "source": [
    "sns.histplot(bootstrapped_mean_married)\n",
    "plt.title('Sampling distribution of mean_Married')"
   ]
  },
  {
   "cell_type": "markdown",
   "id": "77b60023",
   "metadata": {},
   "source": [
    "### The sampling distribution has a slightly less variance when sample size is changed to 1000 from 700. Hence the sample size is fixed as 1000 for further calculations. "
   ]
  },
  {
   "cell_type": "markdown",
   "id": "885eec24",
   "metadata": {},
   "source": [
    "### Confidence Interval at 90% Confidence"
   ]
  },
  {
   "cell_type": "code",
   "execution_count": 159,
   "id": "6a485999",
   "metadata": {},
   "outputs": [
    {
     "data": {
      "text/plain": [
       "930640.2166"
      ]
     },
     "execution_count": 159,
     "metadata": {},
     "output_type": "execute_result"
    }
   ],
   "source": [
    "# Calculating Confidence Interval for Single\n",
    "upper_single=np.percentile(bootstrapped_mean_single,95)\n",
    "upper_single"
   ]
  },
  {
   "cell_type": "code",
   "execution_count": 160,
   "id": "3f35af29",
   "metadata": {},
   "outputs": [
    {
     "data": {
      "text/plain": [
       "831734.00815"
      ]
     },
     "execution_count": 160,
     "metadata": {},
     "output_type": "execute_result"
    }
   ],
   "source": [
    "lower_single=np.percentile(bootstrapped_mean_single,5)\n",
    "lower_single"
   ]
  },
  {
   "cell_type": "code",
   "execution_count": 161,
   "id": "74471668",
   "metadata": {},
   "outputs": [
    {
     "data": {
      "text/plain": [
       "892767.6187"
      ]
     },
     "execution_count": 161,
     "metadata": {},
     "output_type": "execute_result"
    }
   ],
   "source": [
    "# Calculating Confidence Interval for Males\n",
    "upper_married=np.percentile(bootstrapped_mean_married,95)\n",
    "upper_married"
   ]
  },
  {
   "cell_type": "code",
   "execution_count": 162,
   "id": "eb654bb7",
   "metadata": {},
   "outputs": [
    {
     "data": {
      "text/plain": [
       "795780.60445"
      ]
     },
     "execution_count": 162,
     "metadata": {},
     "output_type": "execute_result"
    }
   ],
   "source": [
    "lower_married=np.percentile(bootstrapped_mean_married,5)\n",
    "lower_married"
   ]
  },
  {
   "cell_type": "markdown",
   "id": "856f1029",
   "metadata": {},
   "source": [
    "### At 90% confidence the CI for Single customers is [831734, 930640] and for Married customers is [795781, 892768]. There is overlap observed. "
   ]
  },
  {
   "cell_type": "markdown",
   "id": "065c0d18",
   "metadata": {},
   "source": [
    "### It is observed that at 90% confidence, there is overlap between the Confidence Intervals of Single and Married customers. There is no statistically significant difference observed in the purchase patterns of single and married customers. "
   ]
  },
  {
   "cell_type": "markdown",
   "id": "365b38f5",
   "metadata": {},
   "source": [
    "### 4. Results when the same activity is performed for Age"
   ]
  },
  {
   "cell_type": "code",
   "execution_count": 167,
   "id": "394b3b34",
   "metadata": {},
   "outputs": [
    {
     "data": {
      "text/html": [
       "<div>\n",
       "<style scoped>\n",
       "    .dataframe tbody tr th:only-of-type {\n",
       "        vertical-align: middle;\n",
       "    }\n",
       "\n",
       "    .dataframe tbody tr th {\n",
       "        vertical-align: top;\n",
       "    }\n",
       "\n",
       "    .dataframe thead th {\n",
       "        text-align: right;\n",
       "    }\n",
       "</style>\n",
       "<table border=\"1\" class=\"dataframe\">\n",
       "  <thead>\n",
       "    <tr style=\"text-align: right;\">\n",
       "      <th></th>\n",
       "      <th>User_ID</th>\n",
       "      <th>Age</th>\n",
       "      <th>Purchase</th>\n",
       "    </tr>\n",
       "  </thead>\n",
       "  <tbody>\n",
       "    <tr>\n",
       "      <th>0</th>\n",
       "      <td>1000001</td>\n",
       "      <td>0-17</td>\n",
       "      <td>334093</td>\n",
       "    </tr>\n",
       "    <tr>\n",
       "      <th>13</th>\n",
       "      <td>1000002</td>\n",
       "      <td>55+</td>\n",
       "      <td>810472</td>\n",
       "    </tr>\n",
       "    <tr>\n",
       "      <th>16</th>\n",
       "      <td>1000003</td>\n",
       "      <td>26-35</td>\n",
       "      <td>341635</td>\n",
       "    </tr>\n",
       "    <tr>\n",
       "      <th>25</th>\n",
       "      <td>1000004</td>\n",
       "      <td>46-50</td>\n",
       "      <td>206468</td>\n",
       "    </tr>\n",
       "    <tr>\n",
       "      <th>30</th>\n",
       "      <td>1000005</td>\n",
       "      <td>26-35</td>\n",
       "      <td>821001</td>\n",
       "    </tr>\n",
       "    <tr>\n",
       "      <th>...</th>\n",
       "      <td>...</td>\n",
       "      <td>...</td>\n",
       "      <td>...</td>\n",
       "    </tr>\n",
       "    <tr>\n",
       "      <th>41204</th>\n",
       "      <td>1006036</td>\n",
       "      <td>26-35</td>\n",
       "      <td>4116058</td>\n",
       "    </tr>\n",
       "    <tr>\n",
       "      <th>41213</th>\n",
       "      <td>1006037</td>\n",
       "      <td>46-50</td>\n",
       "      <td>1119538</td>\n",
       "    </tr>\n",
       "    <tr>\n",
       "      <th>41222</th>\n",
       "      <td>1006038</td>\n",
       "      <td>55+</td>\n",
       "      <td>90034</td>\n",
       "    </tr>\n",
       "    <tr>\n",
       "      <th>41227</th>\n",
       "      <td>1006039</td>\n",
       "      <td>46-50</td>\n",
       "      <td>590319</td>\n",
       "    </tr>\n",
       "    <tr>\n",
       "      <th>41232</th>\n",
       "      <td>1006040</td>\n",
       "      <td>26-35</td>\n",
       "      <td>1653299</td>\n",
       "    </tr>\n",
       "  </tbody>\n",
       "</table>\n",
       "<p>5891 rows × 3 columns</p>\n",
       "</div>"
      ],
      "text/plain": [
       "       User_ID    Age  Purchase\n",
       "0      1000001   0-17    334093\n",
       "13     1000002    55+    810472\n",
       "16     1000003  26-35    341635\n",
       "25     1000004  46-50    206468\n",
       "30     1000005  26-35    821001\n",
       "...        ...    ...       ...\n",
       "41204  1006036  26-35   4116058\n",
       "41213  1006037  46-50   1119538\n",
       "41222  1006038    55+     90034\n",
       "41227  1006039  46-50    590319\n",
       "41232  1006040  26-35   1653299\n",
       "\n",
       "[5891 rows x 3 columns]"
      ]
     },
     "execution_count": 167,
     "metadata": {},
     "output_type": "execute_result"
    }
   ],
   "source": [
    "# Calculating total purchase per user id\n",
    "df_age=df.groupby(['User_ID','Age'])['Purchase'].sum().reset_index()\n",
    "df_age=df_age[df_age['Purchase']!=0]\n",
    "df_age"
   ]
  },
  {
   "cell_type": "code",
   "execution_count": 172,
   "id": "3f7ea91f",
   "metadata": {},
   "outputs": [
    {
     "data": {
      "text/plain": [
       "<AxesSubplot:xlabel='Age', ylabel='Purchase'>"
      ]
     },
     "execution_count": 172,
     "metadata": {},
     "output_type": "execute_result"
    },
    {
     "data": {
      "image/png": "[encoded data removed]",
      "text/plain": [
       "<Figure size 432x288 with 1 Axes>"
      ]
     },
     "metadata": {
      "needs_background": "light"
     },
     "output_type": "display_data"
    }
   ],
   "source": [
    "a=df_age.groupby('Age')['Purchase'].mean().reset_index()\n",
    "sns.barplot(data=a,x=a['Age'],y=a['Purchase'])"
   ]
  },
  {
   "cell_type": "markdown",
   "id": "94f361e8",
   "metadata": {},
   "source": [
    "### The average purchase amount is the highest for 26-35 age group followed by 36-45 and 18-25. The average purchase amount is least for 55+ group"
   ]
  },
  {
   "cell_type": "markdown",
   "id": "b3b1dae0",
   "metadata": {},
   "source": [
    "### 2.\tConfidence intervals and distribution of the mean of the expenses by customers of different age groups"
   ]
  },
  {
   "cell_type": "code",
   "execution_count": 168,
   "id": "532d6b89",
   "metadata": {},
   "outputs": [
    {
     "data": {
      "text/plain": [
       "26-35    2053\n",
       "36-45    1167\n",
       "18-25    1069\n",
       "46-50     531\n",
       "51-55     481\n",
       "55+       372\n",
       "0-17      218\n",
       "Name: Age, dtype: int64"
      ]
     },
     "execution_count": 168,
     "metadata": {},
     "output_type": "execute_result"
    }
   ],
   "source": [
    "# Finding totalcustomers in each age group in the dataset\n",
    "df_age['Age'].value_counts()"
   ]
  },
  {
   "cell_type": "markdown",
   "id": "3cd39613",
   "metadata": {},
   "source": [
    "#### Considering the total number of men and women,  sample sizes of 200 is being considered for observation"
   ]
  },
  {
   "cell_type": "markdown",
   "id": "5b94cbee",
   "metadata": {},
   "source": [
    "### Bootstrapping with Sample size = 100"
   ]
  },
  {
   "cell_type": "markdown",
   "id": "74a49898",
   "metadata": {},
   "source": [
    "#### 0-17"
   ]
  },
  {
   "cell_type": "code",
   "execution_count": 173,
   "id": "b280f5fe",
   "metadata": {},
   "outputs": [
    {
     "data": {
      "text/html": [
       "<div>\n",
       "<style scoped>\n",
       "    .dataframe tbody tr th:only-of-type {\n",
       "        vertical-align: middle;\n",
       "    }\n",
       "\n",
       "    .dataframe tbody tr th {\n",
       "        vertical-align: top;\n",
       "    }\n",
       "\n",
       "    .dataframe thead th {\n",
       "        text-align: right;\n",
       "    }\n",
       "</style>\n",
       "<table border=\"1\" class=\"dataframe\">\n",
       "  <thead>\n",
       "    <tr style=\"text-align: right;\">\n",
       "      <th></th>\n",
       "      <th>User_ID</th>\n",
       "      <th>Age</th>\n",
       "      <th>Purchase</th>\n",
       "    </tr>\n",
       "  </thead>\n",
       "  <tbody>\n",
       "    <tr>\n",
       "      <th>0</th>\n",
       "      <td>1000001</td>\n",
       "      <td>0-17</td>\n",
       "      <td>334093</td>\n",
       "    </tr>\n",
       "    <tr>\n",
       "      <th>126</th>\n",
       "      <td>1000019</td>\n",
       "      <td>0-17</td>\n",
       "      <td>1458069</td>\n",
       "    </tr>\n",
       "    <tr>\n",
       "      <th>336</th>\n",
       "      <td>1000051</td>\n",
       "      <td>0-17</td>\n",
       "      <td>200772</td>\n",
       "    </tr>\n",
       "    <tr>\n",
       "      <th>504</th>\n",
       "      <td>1000075</td>\n",
       "      <td>0-17</td>\n",
       "      <td>1035584</td>\n",
       "    </tr>\n",
       "    <tr>\n",
       "      <th>581</th>\n",
       "      <td>1000086</td>\n",
       "      <td>0-17</td>\n",
       "      <td>294063</td>\n",
       "    </tr>\n",
       "    <tr>\n",
       "      <th>...</th>\n",
       "      <td>...</td>\n",
       "      <td>...</td>\n",
       "      <td>...</td>\n",
       "    </tr>\n",
       "    <tr>\n",
       "      <th>39872</th>\n",
       "      <td>1005844</td>\n",
       "      <td>0-17</td>\n",
       "      <td>476231</td>\n",
       "    </tr>\n",
       "    <tr>\n",
       "      <th>40621</th>\n",
       "      <td>1005953</td>\n",
       "      <td>0-17</td>\n",
       "      <td>629161</td>\n",
       "    </tr>\n",
       "    <tr>\n",
       "      <th>40761</th>\n",
       "      <td>1005973</td>\n",
       "      <td>0-17</td>\n",
       "      <td>270475</td>\n",
       "    </tr>\n",
       "    <tr>\n",
       "      <th>40873</th>\n",
       "      <td>1005989</td>\n",
       "      <td>0-17</td>\n",
       "      <td>466195</td>\n",
       "    </tr>\n",
       "    <tr>\n",
       "      <th>40992</th>\n",
       "      <td>1006006</td>\n",
       "      <td>0-17</td>\n",
       "      <td>514919</td>\n",
       "    </tr>\n",
       "  </tbody>\n",
       "</table>\n",
       "<p>218 rows × 3 columns</p>\n",
       "</div>"
      ],
      "text/plain": [
       "       User_ID   Age  Purchase\n",
       "0      1000001  0-17    334093\n",
       "126    1000019  0-17   1458069\n",
       "336    1000051  0-17    200772\n",
       "504    1000075  0-17   1035584\n",
       "581    1000086  0-17    294063\n",
       "...        ...   ...       ...\n",
       "39872  1005844  0-17    476231\n",
       "40621  1005953  0-17    629161\n",
       "40761  1005973  0-17    270475\n",
       "40873  1005989  0-17    466195\n",
       "40992  1006006  0-17    514919\n",
       "\n",
       "[218 rows x 3 columns]"
      ]
     },
     "execution_count": 173,
     "metadata": {},
     "output_type": "execute_result"
    }
   ],
   "source": [
    "# Dataframe with data for 0-17 age group\n",
    "df_0=df_age[df_age['Age']=='0-17']\n",
    "df_0"
   ]
  },
  {
   "cell_type": "code",
   "execution_count": 179,
   "id": "d5eb7a67",
   "metadata": {},
   "outputs": [],
   "source": [
    "# Initiating an empty list to store mean values of each sample\n",
    "bootstrapped_mean_0=[]\n",
    "n = 200\n",
    "for i in range(10000):\n",
    "    samples=np.random.choice(df_0['Purchase'],size=n)\n",
    "    sample_mean=np.mean(samples)\n",
    "    bootstrapped_mean_0.append(sample_mean)"
   ]
  },
  {
   "cell_type": "code",
   "execution_count": 180,
   "id": "902fa46f",
   "metadata": {},
   "outputs": [
    {
     "data": {
      "text/plain": [
       "Text(0.5, 1.0, 'Sampling distribution of mean_0-17')"
      ]
     },
     "execution_count": 180,
     "metadata": {},
     "output_type": "execute_result"
    },
    {
     "data": {
      "image/png": "[encoded data removed]",
      "text/plain": [
       "<Figure size 432x288 with 1 Axes>"
      ]
     },
     "metadata": {
      "needs_background": "light"
     },
     "output_type": "display_data"
    }
   ],
   "source": [
    "sns.histplot(bootstrapped_mean_0)\n",
    "plt.title('Sampling distribution of mean_0-17')"
   ]
  },
  {
   "cell_type": "markdown",
   "id": "ccd26e5e",
   "metadata": {},
   "source": [
    "#### 18-25"
   ]
  },
  {
   "cell_type": "code",
   "execution_count": 176,
   "id": "61265925",
   "metadata": {},
   "outputs": [
    {
     "data": {
      "text/html": [
       "<div>\n",
       "<style scoped>\n",
       "    .dataframe tbody tr th:only-of-type {\n",
       "        vertical-align: middle;\n",
       "    }\n",
       "\n",
       "    .dataframe tbody tr th {\n",
       "        vertical-align: top;\n",
       "    }\n",
       "\n",
       "    .dataframe thead th {\n",
       "        text-align: right;\n",
       "    }\n",
       "</style>\n",
       "<table border=\"1\" class=\"dataframe\">\n",
       "  <thead>\n",
       "    <tr style=\"text-align: right;\">\n",
       "      <th></th>\n",
       "      <th>User_ID</th>\n",
       "      <th>Age</th>\n",
       "      <th>Purchase</th>\n",
       "    </tr>\n",
       "  </thead>\n",
       "  <tbody>\n",
       "    <tr>\n",
       "      <th>120</th>\n",
       "      <td>1000018</td>\n",
       "      <td>18-25</td>\n",
       "      <td>1979047</td>\n",
       "    </tr>\n",
       "    <tr>\n",
       "      <th>141</th>\n",
       "      <td>1000021</td>\n",
       "      <td>18-25</td>\n",
       "      <td>127099</td>\n",
       "    </tr>\n",
       "    <tr>\n",
       "      <th>148</th>\n",
       "      <td>1000022</td>\n",
       "      <td>18-25</td>\n",
       "      <td>1279914</td>\n",
       "    </tr>\n",
       "    <tr>\n",
       "      <th>169</th>\n",
       "      <td>1000025</td>\n",
       "      <td>18-25</td>\n",
       "      <td>534706</td>\n",
       "    </tr>\n",
       "    <tr>\n",
       "      <th>232</th>\n",
       "      <td>1000034</td>\n",
       "      <td>18-25</td>\n",
       "      <td>807983</td>\n",
       "    </tr>\n",
       "    <tr>\n",
       "      <th>...</th>\n",
       "      <td>...</td>\n",
       "      <td>...</td>\n",
       "      <td>...</td>\n",
       "    </tr>\n",
       "    <tr>\n",
       "      <th>40937</th>\n",
       "      <td>1005998</td>\n",
       "      <td>18-25</td>\n",
       "      <td>702901</td>\n",
       "    </tr>\n",
       "    <tr>\n",
       "      <th>41007</th>\n",
       "      <td>1006008</td>\n",
       "      <td>18-25</td>\n",
       "      <td>266306</td>\n",
       "    </tr>\n",
       "    <tr>\n",
       "      <th>41140</th>\n",
       "      <td>1006027</td>\n",
       "      <td>18-25</td>\n",
       "      <td>265201</td>\n",
       "    </tr>\n",
       "    <tr>\n",
       "      <th>41147</th>\n",
       "      <td>1006028</td>\n",
       "      <td>18-25</td>\n",
       "      <td>362972</td>\n",
       "    </tr>\n",
       "    <tr>\n",
       "      <th>41168</th>\n",
       "      <td>1006031</td>\n",
       "      <td>18-25</td>\n",
       "      <td>286374</td>\n",
       "    </tr>\n",
       "  </tbody>\n",
       "</table>\n",
       "<p>1069 rows × 3 columns</p>\n",
       "</div>"
      ],
      "text/plain": [
       "       User_ID    Age  Purchase\n",
       "120    1000018  18-25   1979047\n",
       "141    1000021  18-25    127099\n",
       "148    1000022  18-25   1279914\n",
       "169    1000025  18-25    534706\n",
       "232    1000034  18-25    807983\n",
       "...        ...    ...       ...\n",
       "40937  1005998  18-25    702901\n",
       "41007  1006008  18-25    266306\n",
       "41140  1006027  18-25    265201\n",
       "41147  1006028  18-25    362972\n",
       "41168  1006031  18-25    286374\n",
       "\n",
       "[1069 rows x 3 columns]"
      ]
     },
     "execution_count": 176,
     "metadata": {},
     "output_type": "execute_result"
    }
   ],
   "source": [
    "# Dataframe with data for 18-25 age group\n",
    "df_18=df_age[df_age['Age']=='18-25']\n",
    "df_18"
   ]
  },
  {
   "cell_type": "code",
   "execution_count": 181,
   "id": "1aa6fbe6",
   "metadata": {},
   "outputs": [],
   "source": [
    "# Initiating an empty list to store mean values of each sample\n",
    "bootstrapped_mean_18=[]\n",
    "n = 200\n",
    "for i in range(10000):\n",
    "    samples=np.random.choice(df_18['Purchase'],size=n)\n",
    "    sample_mean=np.mean(samples)\n",
    "    bootstrapped_mean_18.append(sample_mean)"
   ]
  },
  {
   "cell_type": "code",
   "execution_count": 182,
   "id": "40ddc9b9",
   "metadata": {},
   "outputs": [
    {
     "data": {
      "text/plain": [
       "Text(0.5, 1.0, 'Sampling distribution of mean_18-25')"
      ]
     },
     "execution_count": 182,
     "metadata": {},
     "output_type": "execute_result"
    },
    {
     "data": {
      "image/png": "[encoded data removed]",
      "text/plain": [
       "<Figure size 432x288 with 1 Axes>"
      ]
     },
     "metadata": {
      "needs_background": "light"
     },
     "output_type": "display_data"
    }
   ],
   "source": [
    "sns.histplot(bootstrapped_mean_18)\n",
    "plt.title('Sampling distribution of mean_18-25')"
   ]
  },
  {
   "cell_type": "markdown",
   "id": "bbe05d71",
   "metadata": {},
   "source": [
    "#### 26-35"
   ]
  },
  {
   "cell_type": "code",
   "execution_count": 183,
   "id": "81c8e0a7",
   "metadata": {},
   "outputs": [
    {
     "data": {
      "text/html": [
       "<div>\n",
       "<style scoped>\n",
       "    .dataframe tbody tr th:only-of-type {\n",
       "        vertical-align: middle;\n",
       "    }\n",
       "\n",
       "    .dataframe tbody tr th {\n",
       "        vertical-align: top;\n",
       "    }\n",
       "\n",
       "    .dataframe thead th {\n",
       "        text-align: right;\n",
       "    }\n",
       "</style>\n",
       "<table border=\"1\" class=\"dataframe\">\n",
       "  <thead>\n",
       "    <tr style=\"text-align: right;\">\n",
       "      <th></th>\n",
       "      <th>User_ID</th>\n",
       "      <th>Age</th>\n",
       "      <th>Purchase</th>\n",
       "    </tr>\n",
       "  </thead>\n",
       "  <tbody>\n",
       "    <tr>\n",
       "      <th>16</th>\n",
       "      <td>1000003</td>\n",
       "      <td>26-35</td>\n",
       "      <td>341635</td>\n",
       "    </tr>\n",
       "    <tr>\n",
       "      <th>30</th>\n",
       "      <td>1000005</td>\n",
       "      <td>26-35</td>\n",
       "      <td>821001</td>\n",
       "    </tr>\n",
       "    <tr>\n",
       "      <th>51</th>\n",
       "      <td>1000008</td>\n",
       "      <td>26-35</td>\n",
       "      <td>796593</td>\n",
       "    </tr>\n",
       "    <tr>\n",
       "      <th>58</th>\n",
       "      <td>1000009</td>\n",
       "      <td>26-35</td>\n",
       "      <td>594099</td>\n",
       "    </tr>\n",
       "    <tr>\n",
       "      <th>72</th>\n",
       "      <td>1000011</td>\n",
       "      <td>26-35</td>\n",
       "      <td>557023</td>\n",
       "    </tr>\n",
       "    <tr>\n",
       "      <th>...</th>\n",
       "      <td>...</td>\n",
       "      <td>...</td>\n",
       "      <td>...</td>\n",
       "    </tr>\n",
       "    <tr>\n",
       "      <th>41162</th>\n",
       "      <td>1006030</td>\n",
       "      <td>26-35</td>\n",
       "      <td>737361</td>\n",
       "    </tr>\n",
       "    <tr>\n",
       "      <th>41190</th>\n",
       "      <td>1006034</td>\n",
       "      <td>26-35</td>\n",
       "      <td>197086</td>\n",
       "    </tr>\n",
       "    <tr>\n",
       "      <th>41197</th>\n",
       "      <td>1006035</td>\n",
       "      <td>26-35</td>\n",
       "      <td>956645</td>\n",
       "    </tr>\n",
       "    <tr>\n",
       "      <th>41204</th>\n",
       "      <td>1006036</td>\n",
       "      <td>26-35</td>\n",
       "      <td>4116058</td>\n",
       "    </tr>\n",
       "    <tr>\n",
       "      <th>41232</th>\n",
       "      <td>1006040</td>\n",
       "      <td>26-35</td>\n",
       "      <td>1653299</td>\n",
       "    </tr>\n",
       "  </tbody>\n",
       "</table>\n",
       "<p>2053 rows × 3 columns</p>\n",
       "</div>"
      ],
      "text/plain": [
       "       User_ID    Age  Purchase\n",
       "16     1000003  26-35    341635\n",
       "30     1000005  26-35    821001\n",
       "51     1000008  26-35    796593\n",
       "58     1000009  26-35    594099\n",
       "72     1000011  26-35    557023\n",
       "...        ...    ...       ...\n",
       "41162  1006030  26-35    737361\n",
       "41190  1006034  26-35    197086\n",
       "41197  1006035  26-35    956645\n",
       "41204  1006036  26-35   4116058\n",
       "41232  1006040  26-35   1653299\n",
       "\n",
       "[2053 rows x 3 columns]"
      ]
     },
     "execution_count": 183,
     "metadata": {},
     "output_type": "execute_result"
    }
   ],
   "source": [
    "# Dataframe with data for 26-35 age group\n",
    "df_26=df_age[df_age['Age']=='26-35']\n",
    "df_26"
   ]
  },
  {
   "cell_type": "code",
   "execution_count": 184,
   "id": "3e9c9e6b",
   "metadata": {},
   "outputs": [],
   "source": [
    "# Initiating an empty list to store mean values of each sample\n",
    "bootstrapped_mean_26=[]\n",
    "n = 200\n",
    "for i in range(10000):\n",
    "    samples=np.random.choice(df_26['Purchase'],size=n)\n",
    "    sample_mean=np.mean(samples)\n",
    "    bootstrapped_mean_26.append(sample_mean)"
   ]
  },
  {
   "cell_type": "code",
   "execution_count": 185,
   "id": "c10599a3",
   "metadata": {},
   "outputs": [
    {
     "data": {
      "text/plain": [
       "Text(0.5, 1.0, 'Sampling distribution of mean_26-35')"
      ]
     },
     "execution_count": 185,
     "metadata": {},
     "output_type": "execute_result"
    },
    {
     "data": {
      "image/png": "[encoded data removed]",
      "text/plain": [
       "<Figure size 432x288 with 1 Axes>"
      ]
     },
     "metadata": {
      "needs_background": "light"
     },
     "output_type": "display_data"
    }
   ],
   "source": [
    "sns.histplot(bootstrapped_mean_26)\n",
    "plt.title('Sampling distribution of mean_26-35')"
   ]
  },
  {
   "cell_type": "markdown",
   "id": "ddb0c672",
   "metadata": {},
   "source": [
    "#### 36-45"
   ]
  },
  {
   "cell_type": "code",
   "execution_count": 186,
   "id": "b376537e",
   "metadata": {},
   "outputs": [
    {
     "data": {
      "text/html": [
       "<div>\n",
       "<style scoped>\n",
       "    .dataframe tbody tr th:only-of-type {\n",
       "        vertical-align: middle;\n",
       "    }\n",
       "\n",
       "    .dataframe tbody tr th {\n",
       "        vertical-align: top;\n",
       "    }\n",
       "\n",
       "    .dataframe thead th {\n",
       "        text-align: right;\n",
       "    }\n",
       "</style>\n",
       "<table border=\"1\" class=\"dataframe\">\n",
       "  <thead>\n",
       "    <tr style=\"text-align: right;\">\n",
       "      <th></th>\n",
       "      <th>User_ID</th>\n",
       "      <th>Age</th>\n",
       "      <th>Purchase</th>\n",
       "    </tr>\n",
       "  </thead>\n",
       "  <tbody>\n",
       "    <tr>\n",
       "      <th>45</th>\n",
       "      <td>1000007</td>\n",
       "      <td>36-45</td>\n",
       "      <td>234668</td>\n",
       "    </tr>\n",
       "    <tr>\n",
       "      <th>66</th>\n",
       "      <td>1000010</td>\n",
       "      <td>36-45</td>\n",
       "      <td>2169510</td>\n",
       "    </tr>\n",
       "    <tr>\n",
       "      <th>94</th>\n",
       "      <td>1000014</td>\n",
       "      <td>36-45</td>\n",
       "      <td>127629</td>\n",
       "    </tr>\n",
       "    <tr>\n",
       "      <th>108</th>\n",
       "      <td>1000016</td>\n",
       "      <td>36-45</td>\n",
       "      <td>150490</td>\n",
       "    </tr>\n",
       "    <tr>\n",
       "      <th>157</th>\n",
       "      <td>1000023</td>\n",
       "      <td>36-45</td>\n",
       "      <td>1670998</td>\n",
       "    </tr>\n",
       "    <tr>\n",
       "      <th>...</th>\n",
       "      <td>...</td>\n",
       "      <td>...</td>\n",
       "      <td>...</td>\n",
       "    </tr>\n",
       "    <tr>\n",
       "      <th>41030</th>\n",
       "      <td>1006011</td>\n",
       "      <td>36-45</td>\n",
       "      <td>1198714</td>\n",
       "    </tr>\n",
       "    <tr>\n",
       "      <th>41037</th>\n",
       "      <td>1006012</td>\n",
       "      <td>36-45</td>\n",
       "      <td>127920</td>\n",
       "    </tr>\n",
       "    <tr>\n",
       "      <th>41072</th>\n",
       "      <td>1006017</td>\n",
       "      <td>36-45</td>\n",
       "      <td>160230</td>\n",
       "    </tr>\n",
       "    <tr>\n",
       "      <th>41079</th>\n",
       "      <td>1006018</td>\n",
       "      <td>36-45</td>\n",
       "      <td>975585</td>\n",
       "    </tr>\n",
       "    <tr>\n",
       "      <th>41135</th>\n",
       "      <td>1006026</td>\n",
       "      <td>36-45</td>\n",
       "      <td>490768</td>\n",
       "    </tr>\n",
       "  </tbody>\n",
       "</table>\n",
       "<p>1167 rows × 3 columns</p>\n",
       "</div>"
      ],
      "text/plain": [
       "       User_ID    Age  Purchase\n",
       "45     1000007  36-45    234668\n",
       "66     1000010  36-45   2169510\n",
       "94     1000014  36-45    127629\n",
       "108    1000016  36-45    150490\n",
       "157    1000023  36-45   1670998\n",
       "...        ...    ...       ...\n",
       "41030  1006011  36-45   1198714\n",
       "41037  1006012  36-45    127920\n",
       "41072  1006017  36-45    160230\n",
       "41079  1006018  36-45    975585\n",
       "41135  1006026  36-45    490768\n",
       "\n",
       "[1167 rows x 3 columns]"
      ]
     },
     "execution_count": 186,
     "metadata": {},
     "output_type": "execute_result"
    }
   ],
   "source": [
    "# Dataframe with data for 36-45 age group\n",
    "df_36=df_age[df_age['Age']=='36-45']\n",
    "df_36"
   ]
  },
  {
   "cell_type": "code",
   "execution_count": 187,
   "id": "a133710b",
   "metadata": {},
   "outputs": [],
   "source": [
    "# Initiating an empty list to store mean values of each sample\n",
    "bootstrapped_mean_36=[]\n",
    "n = 200\n",
    "for i in range(10000):\n",
    "    samples=np.random.choice(df_36['Purchase'],size=n)\n",
    "    sample_mean=np.mean(samples)\n",
    "    bootstrapped_mean_36.append(sample_mean)"
   ]
  },
  {
   "cell_type": "code",
   "execution_count": 188,
   "id": "bcff84b5",
   "metadata": {},
   "outputs": [
    {
     "data": {
      "text/plain": [
       "Text(0.5, 1.0, 'Sampling distribution of mean_36-45')"
      ]
     },
     "execution_count": 188,
     "metadata": {},
     "output_type": "execute_result"
    },
    {
     "data": {
      "image/png": "[encoded data removed]",
      "text/plain": [
       "<Figure size 432x288 with 1 Axes>"
      ]
     },
     "metadata": {
      "needs_background": "light"
     },
     "output_type": "display_data"
    }
   ],
   "source": [
    "sns.histplot(bootstrapped_mean_36)\n",
    "plt.title('Sampling distribution of mean_36-45')"
   ]
  },
  {
   "cell_type": "markdown",
   "id": "b7d8cacf",
   "metadata": {},
   "source": [
    "#### 46-50"
   ]
  },
  {
   "cell_type": "code",
   "execution_count": 189,
   "id": "6b8b22dc",
   "metadata": {},
   "outputs": [
    {
     "data": {
      "text/html": [
       "<div>\n",
       "<style scoped>\n",
       "    .dataframe tbody tr th:only-of-type {\n",
       "        vertical-align: middle;\n",
       "    }\n",
       "\n",
       "    .dataframe tbody tr th {\n",
       "        vertical-align: top;\n",
       "    }\n",
       "\n",
       "    .dataframe thead th {\n",
       "        text-align: right;\n",
       "    }\n",
       "</style>\n",
       "<table border=\"1\" class=\"dataframe\">\n",
       "  <thead>\n",
       "    <tr style=\"text-align: right;\">\n",
       "      <th></th>\n",
       "      <th>User_ID</th>\n",
       "      <th>Age</th>\n",
       "      <th>Purchase</th>\n",
       "    </tr>\n",
       "  </thead>\n",
       "  <tbody>\n",
       "    <tr>\n",
       "      <th>25</th>\n",
       "      <td>1000004</td>\n",
       "      <td>46-50</td>\n",
       "      <td>206468</td>\n",
       "    </tr>\n",
       "    <tr>\n",
       "      <th>88</th>\n",
       "      <td>1000013</td>\n",
       "      <td>46-50</td>\n",
       "      <td>713927</td>\n",
       "    </tr>\n",
       "    <tr>\n",
       "      <th>228</th>\n",
       "      <td>1000033</td>\n",
       "      <td>46-50</td>\n",
       "      <td>1940418</td>\n",
       "    </tr>\n",
       "    <tr>\n",
       "      <th>242</th>\n",
       "      <td>1000035</td>\n",
       "      <td>46-50</td>\n",
       "      <td>821303</td>\n",
       "    </tr>\n",
       "    <tr>\n",
       "      <th>291</th>\n",
       "      <td>1000044</td>\n",
       "      <td>46-50</td>\n",
       "      <td>1180380</td>\n",
       "    </tr>\n",
       "    <tr>\n",
       "      <th>...</th>\n",
       "      <td>...</td>\n",
       "      <td>...</td>\n",
       "      <td>...</td>\n",
       "    </tr>\n",
       "    <tr>\n",
       "      <th>41052</th>\n",
       "      <td>1006014</td>\n",
       "      <td>46-50</td>\n",
       "      <td>528238</td>\n",
       "    </tr>\n",
       "    <tr>\n",
       "      <th>41066</th>\n",
       "      <td>1006016</td>\n",
       "      <td>46-50</td>\n",
       "      <td>3770970</td>\n",
       "    </tr>\n",
       "    <tr>\n",
       "      <th>41178</th>\n",
       "      <td>1006032</td>\n",
       "      <td>46-50</td>\n",
       "      <td>517261</td>\n",
       "    </tr>\n",
       "    <tr>\n",
       "      <th>41213</th>\n",
       "      <td>1006037</td>\n",
       "      <td>46-50</td>\n",
       "      <td>1119538</td>\n",
       "    </tr>\n",
       "    <tr>\n",
       "      <th>41227</th>\n",
       "      <td>1006039</td>\n",
       "      <td>46-50</td>\n",
       "      <td>590319</td>\n",
       "    </tr>\n",
       "  </tbody>\n",
       "</table>\n",
       "<p>531 rows × 3 columns</p>\n",
       "</div>"
      ],
      "text/plain": [
       "       User_ID    Age  Purchase\n",
       "25     1000004  46-50    206468\n",
       "88     1000013  46-50    713927\n",
       "228    1000033  46-50   1940418\n",
       "242    1000035  46-50    821303\n",
       "291    1000044  46-50   1180380\n",
       "...        ...    ...       ...\n",
       "41052  1006014  46-50    528238\n",
       "41066  1006016  46-50   3770970\n",
       "41178  1006032  46-50    517261\n",
       "41213  1006037  46-50   1119538\n",
       "41227  1006039  46-50    590319\n",
       "\n",
       "[531 rows x 3 columns]"
      ]
     },
     "execution_count": 189,
     "metadata": {},
     "output_type": "execute_result"
    }
   ],
   "source": [
    "# Dataframe with data for 46-50 age group\n",
    "df_46=df_age[df_age['Age']=='46-50']\n",
    "df_46"
   ]
  },
  {
   "cell_type": "code",
   "execution_count": 190,
   "id": "a0e48c8f",
   "metadata": {},
   "outputs": [],
   "source": [
    "# Initiating an empty list to store mean values of each sample\n",
    "bootstrapped_mean_46=[]\n",
    "n = 200\n",
    "for i in range(10000):\n",
    "    samples=np.random.choice(df_46['Purchase'],size=n)\n",
    "    sample_mean=np.mean(samples)\n",
    "    bootstrapped_mean_46.append(sample_mean)"
   ]
  },
  {
   "cell_type": "code",
   "execution_count": 191,
   "id": "5a5d459c",
   "metadata": {},
   "outputs": [
    {
     "data": {
      "text/plain": [
       "Text(0.5, 1.0, 'Sampling distribution of mean_46-50')"
      ]
     },
     "execution_count": 191,
     "metadata": {},
     "output_type": "execute_result"
    },
    {
     "data": {
      "image/png": "[encoded data removed]",
      "text/plain": [
       "<Figure size 432x288 with 1 Axes>"
      ]
     },
     "metadata": {
      "needs_background": "light"
     },
     "output_type": "display_data"
    }
   ],
   "source": [
    "sns.histplot(bootstrapped_mean_46)\n",
    "plt.title('Sampling distribution of mean_46-50')"
   ]
  },
  {
   "cell_type": "markdown",
   "id": "7f3f0c33",
   "metadata": {},
   "source": [
    "#### 51-55"
   ]
  },
  {
   "cell_type": "code",
   "execution_count": 192,
   "id": "ef7144cf",
   "metadata": {},
   "outputs": [
    {
     "data": {
      "text/html": [
       "<div>\n",
       "<style scoped>\n",
       "    .dataframe tbody tr th:only-of-type {\n",
       "        vertical-align: middle;\n",
       "    }\n",
       "\n",
       "    .dataframe tbody tr th {\n",
       "        vertical-align: top;\n",
       "    }\n",
       "\n",
       "    .dataframe thead th {\n",
       "        text-align: right;\n",
       "    }\n",
       "</style>\n",
       "<table border=\"1\" class=\"dataframe\">\n",
       "  <thead>\n",
       "    <tr style=\"text-align: right;\">\n",
       "      <th></th>\n",
       "      <th>User_ID</th>\n",
       "      <th>Age</th>\n",
       "      <th>Purchase</th>\n",
       "    </tr>\n",
       "  </thead>\n",
       "  <tbody>\n",
       "    <tr>\n",
       "      <th>40</th>\n",
       "      <td>1000006</td>\n",
       "      <td>51-55</td>\n",
       "      <td>379930</td>\n",
       "    </tr>\n",
       "    <tr>\n",
       "      <th>117</th>\n",
       "      <td>1000017</td>\n",
       "      <td>51-55</td>\n",
       "      <td>1425995</td>\n",
       "    </tr>\n",
       "    <tr>\n",
       "      <th>362</th>\n",
       "      <td>1000054</td>\n",
       "      <td>51-55</td>\n",
       "      <td>187451</td>\n",
       "    </tr>\n",
       "    <tr>\n",
       "      <th>397</th>\n",
       "      <td>1000059</td>\n",
       "      <td>51-55</td>\n",
       "      <td>980118</td>\n",
       "    </tr>\n",
       "    <tr>\n",
       "      <th>404</th>\n",
       "      <td>1000060</td>\n",
       "      <td>51-55</td>\n",
       "      <td>280029</td>\n",
       "    </tr>\n",
       "    <tr>\n",
       "      <th>...</th>\n",
       "      <td>...</td>\n",
       "      <td>...</td>\n",
       "      <td>...</td>\n",
       "    </tr>\n",
       "    <tr>\n",
       "      <th>40724</th>\n",
       "      <td>1005967</td>\n",
       "      <td>51-55</td>\n",
       "      <td>136189</td>\n",
       "    </tr>\n",
       "    <tr>\n",
       "      <th>40906</th>\n",
       "      <td>1005993</td>\n",
       "      <td>51-55</td>\n",
       "      <td>130022</td>\n",
       "    </tr>\n",
       "    <tr>\n",
       "      <th>40969</th>\n",
       "      <td>1006002</td>\n",
       "      <td>51-55</td>\n",
       "      <td>1843460</td>\n",
       "    </tr>\n",
       "    <tr>\n",
       "      <th>41095</th>\n",
       "      <td>1006020</td>\n",
       "      <td>51-55</td>\n",
       "      <td>374475</td>\n",
       "    </tr>\n",
       "    <tr>\n",
       "      <th>41186</th>\n",
       "      <td>1006033</td>\n",
       "      <td>51-55</td>\n",
       "      <td>501843</td>\n",
       "    </tr>\n",
       "  </tbody>\n",
       "</table>\n",
       "<p>481 rows × 3 columns</p>\n",
       "</div>"
      ],
      "text/plain": [
       "       User_ID    Age  Purchase\n",
       "40     1000006  51-55    379930\n",
       "117    1000017  51-55   1425995\n",
       "362    1000054  51-55    187451\n",
       "397    1000059  51-55    980118\n",
       "404    1000060  51-55    280029\n",
       "...        ...    ...       ...\n",
       "40724  1005967  51-55    136189\n",
       "40906  1005993  51-55    130022\n",
       "40969  1006002  51-55   1843460\n",
       "41095  1006020  51-55    374475\n",
       "41186  1006033  51-55    501843\n",
       "\n",
       "[481 rows x 3 columns]"
      ]
     },
     "execution_count": 192,
     "metadata": {},
     "output_type": "execute_result"
    }
   ],
   "source": [
    "# Dataframe with data for 51-55 age group\n",
    "df_51=df_age[df_age['Age']=='51-55']\n",
    "df_51"
   ]
  },
  {
   "cell_type": "code",
   "execution_count": 193,
   "id": "1cf6c882",
   "metadata": {},
   "outputs": [],
   "source": [
    "# Initiating an empty list to store mean values of each sample\n",
    "bootstrapped_mean_51=[]\n",
    "n = 200\n",
    "for i in range(10000):\n",
    "    samples=np.random.choice(df_51['Purchase'],size=n)\n",
    "    sample_mean=np.mean(samples)\n",
    "    bootstrapped_mean_51.append(sample_mean)"
   ]
  },
  {
   "cell_type": "code",
   "execution_count": 194,
   "id": "b605fb6b",
   "metadata": {},
   "outputs": [
    {
     "data": {
      "text/plain": [
       "Text(0.5, 1.0, 'Sampling distribution of mean_51-55')"
      ]
     },
     "execution_count": 194,
     "metadata": {},
     "output_type": "execute_result"
    },
    {
     "data": {
      "image/png": "[encoded data removed]",
      "text/plain": [
       "<Figure size 432x288 with 1 Axes>"
      ]
     },
     "metadata": {
      "needs_background": "light"
     },
     "output_type": "display_data"
    }
   ],
   "source": [
    "sns.histplot(bootstrapped_mean_51)\n",
    "plt.title('Sampling distribution of mean_51-55')"
   ]
  },
  {
   "cell_type": "markdown",
   "id": "59df13a3",
   "metadata": {},
   "source": [
    "#### 55+"
   ]
  },
  {
   "cell_type": "code",
   "execution_count": 195,
   "id": "951e8d50",
   "metadata": {},
   "outputs": [
    {
     "data": {
      "text/html": [
       "<div>\n",
       "<style scoped>\n",
       "    .dataframe tbody tr th:only-of-type {\n",
       "        vertical-align: middle;\n",
       "    }\n",
       "\n",
       "    .dataframe tbody tr th {\n",
       "        vertical-align: top;\n",
       "    }\n",
       "\n",
       "    .dataframe thead th {\n",
       "        text-align: right;\n",
       "    }\n",
       "</style>\n",
       "<table border=\"1\" class=\"dataframe\">\n",
       "  <thead>\n",
       "    <tr style=\"text-align: right;\">\n",
       "      <th></th>\n",
       "      <th>User_ID</th>\n",
       "      <th>Age</th>\n",
       "      <th>Purchase</th>\n",
       "    </tr>\n",
       "  </thead>\n",
       "  <tbody>\n",
       "    <tr>\n",
       "      <th>13</th>\n",
       "      <td>1000002</td>\n",
       "      <td>55+</td>\n",
       "      <td>810472</td>\n",
       "    </tr>\n",
       "    <tr>\n",
       "      <th>216</th>\n",
       "      <td>1000031</td>\n",
       "      <td>55+</td>\n",
       "      <td>496154</td>\n",
       "    </tr>\n",
       "    <tr>\n",
       "      <th>545</th>\n",
       "      <td>1000080</td>\n",
       "      <td>55+</td>\n",
       "      <td>339364</td>\n",
       "    </tr>\n",
       "    <tr>\n",
       "      <th>608</th>\n",
       "      <td>1000089</td>\n",
       "      <td>55+</td>\n",
       "      <td>112276</td>\n",
       "    </tr>\n",
       "    <tr>\n",
       "      <th>615</th>\n",
       "      <td>1000090</td>\n",
       "      <td>55+</td>\n",
       "      <td>1310621</td>\n",
       "    </tr>\n",
       "    <tr>\n",
       "      <th>...</th>\n",
       "      <td>...</td>\n",
       "      <td>...</td>\n",
       "      <td>...</td>\n",
       "    </tr>\n",
       "    <tr>\n",
       "      <th>40592</th>\n",
       "      <td>1005948</td>\n",
       "      <td>55+</td>\n",
       "      <td>2120730</td>\n",
       "    </tr>\n",
       "    <tr>\n",
       "      <th>40732</th>\n",
       "      <td>1005968</td>\n",
       "      <td>55+</td>\n",
       "      <td>282354</td>\n",
       "    </tr>\n",
       "    <tr>\n",
       "      <th>40816</th>\n",
       "      <td>1005980</td>\n",
       "      <td>55+</td>\n",
       "      <td>1070641</td>\n",
       "    </tr>\n",
       "    <tr>\n",
       "      <th>40858</th>\n",
       "      <td>1005986</td>\n",
       "      <td>55+</td>\n",
       "      <td>606283</td>\n",
       "    </tr>\n",
       "    <tr>\n",
       "      <th>41222</th>\n",
       "      <td>1006038</td>\n",
       "      <td>55+</td>\n",
       "      <td>90034</td>\n",
       "    </tr>\n",
       "  </tbody>\n",
       "</table>\n",
       "<p>372 rows × 3 columns</p>\n",
       "</div>"
      ],
      "text/plain": [
       "       User_ID  Age  Purchase\n",
       "13     1000002  55+    810472\n",
       "216    1000031  55+    496154\n",
       "545    1000080  55+    339364\n",
       "608    1000089  55+    112276\n",
       "615    1000090  55+   1310621\n",
       "...        ...  ...       ...\n",
       "40592  1005948  55+   2120730\n",
       "40732  1005968  55+    282354\n",
       "40816  1005980  55+   1070641\n",
       "40858  1005986  55+    606283\n",
       "41222  1006038  55+     90034\n",
       "\n",
       "[372 rows x 3 columns]"
      ]
     },
     "execution_count": 195,
     "metadata": {},
     "output_type": "execute_result"
    }
   ],
   "source": [
    "# Dataframe with data for 55+ age group\n",
    "df_55=df_age[df_age['Age']=='55+']\n",
    "df_55"
   ]
  },
  {
   "cell_type": "code",
   "execution_count": 196,
   "id": "cdc45cfd",
   "metadata": {},
   "outputs": [],
   "source": [
    "# Initiating an empty list to store mean values of each sample\n",
    "bootstrapped_mean_55=[]\n",
    "n = 200\n",
    "for i in range(10000):\n",
    "    samples=np.random.choice(df_55['Purchase'],size=n)\n",
    "    sample_mean=np.mean(samples)\n",
    "    bootstrapped_mean_55.append(sample_mean)"
   ]
  },
  {
   "cell_type": "code",
   "execution_count": 197,
   "id": "dd8bb548",
   "metadata": {},
   "outputs": [
    {
     "data": {
      "text/plain": [
       "Text(0.5, 1.0, 'Sampling distribution of mean_55+')"
      ]
     },
     "execution_count": 197,
     "metadata": {},
     "output_type": "execute_result"
    },
    {
     "data": {
      "image/png": "[encoded data removed]",
      "text/plain": [
       "<Figure size 432x288 with 1 Axes>"
      ]
     },
     "metadata": {
      "needs_background": "light"
     },
     "output_type": "display_data"
    }
   ],
   "source": [
    "sns.histplot(bootstrapped_mean_55)\n",
    "plt.title('Sampling distribution of mean_55+')"
   ]
  },
  {
   "cell_type": "code",
   "execution_count": null,
   "id": "9cbbafea",
   "metadata": {},
   "outputs": [],
   "source": []
  }
 ],
 "metadata": {
  "kernelspec": {
   "display_name": "Python 3 (ipykernel)",
   "language": "python",
   "name": "python3"
  },
  "language_info": {
   "codemirror_mode": {
    "name": "ipython",
    "version": 3
   },
   "file_extension": ".py",
   "mimetype": "text/x-python",
   "name": "python",
   "nbconvert_exporter": "python",
   "pygments_lexer": "ipython3",
   "version": "3.9.12"
  }
 },
 "nbformat": 4,
 "nbformat_minor": 5
}
